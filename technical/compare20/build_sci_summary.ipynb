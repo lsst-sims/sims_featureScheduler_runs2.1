{
 "cells": [
  {
   "cell_type": "markdown",
   "metadata": {},
   "source": [
    "Make a big pandas dataframe to hold all the metric values we're interested in, so then we can pass it around and plot it up any way we like\n",
    "\n",
    "I guess depth in each filter for each DDF?\n",
    "\n"
   ]
  },
  {
   "cell_type": "code",
   "execution_count": 1,
   "metadata": {},
   "outputs": [],
   "source": [
    "import glob\n",
    "import pandas as pd\n",
    "import sqlite3\n",
    "import numpy as np\n",
    "import matplotlib.pylab as plt\n",
    "import os\n",
    "%matplotlib inline"
   ]
  },
  {
   "cell_type": "code",
   "execution_count": 2,
   "metadata": {},
   "outputs": [],
   "source": [
    "# I just coppied them over from hyak and sym linked them to this directory for ease of use\n",
    "glance_dirs = glob.glob('./*10yrs_glance')\n",
    "sci_dirs = glob.glob('./*_sci')\n",
    "\n",
    "glance_dirs.sort()\n",
    "sci_dirs.sort()\n"
   ]
  },
  {
   "cell_type": "code",
   "execution_count": 3,
   "metadata": {},
   "outputs": [
    {
     "data": {
      "text/plain": [
       "['./baseline_v2.0_10yrs_sci', './baseline_v2.1_10yrs_sci']"
      ]
     },
     "execution_count": 3,
     "metadata": {},
     "output_type": "execute_result"
    }
   ],
   "source": [
    "sci_dirs\n"
   ]
  },
  {
   "cell_type": "code",
   "execution_count": 4,
   "metadata": {},
   "outputs": [
    {
     "data": {
      "text/plain": [
       "['./baseline_v2.0_10yrs_glance', './baseline_v2.1_10yrs_glance']"
      ]
     },
     "execution_count": 4,
     "metadata": {},
     "output_type": "execute_result"
    }
   ],
   "source": [
    "glance_dirs"
   ]
  },
  {
   "cell_type": "code",
   "execution_count": 5,
   "metadata": {},
   "outputs": [],
   "source": [
    "filenames = [name.replace('./', '').replace('_glance', '') for name in glance_dirs]"
   ]
  },
  {
   "cell_type": "code",
   "execution_count": null,
   "metadata": {},
   "outputs": [],
   "source": []
  },
  {
   "cell_type": "code",
   "execution_count": 6,
   "metadata": {},
   "outputs": [],
   "source": [
    "runNames =  [name[2:].replace('_10yrs_glance','').replace('10yrs_glance','').replace('10yrs_glance','') for name in glance_dirs] \n",
    "versions = ['2.0', '2.1']"
   ]
  },
  {
   "cell_type": "code",
   "execution_count": 7,
   "metadata": {},
   "outputs": [
    {
     "data": {
      "text/plain": [
       "['baseline_v2.0', 'baseline_v2.1']"
      ]
     },
     "execution_count": 7,
     "metadata": {},
     "output_type": "execute_result"
    }
   ],
   "source": [
    "runNames"
   ]
  },
  {
   "cell_type": "code",
   "execution_count": 8,
   "metadata": {},
   "outputs": [],
   "source": [
    "# Set up the dataframe\n",
    "df = pd.DataFrame(np.array([runNames, versions]).T, columns=['runName', 'version'])"
   ]
  },
  {
   "cell_type": "code",
   "execution_count": 9,
   "metadata": {},
   "outputs": [],
   "source": [
    "# List of tupes with (metricName, summaryName) that we want to pull from glance dirs\n",
    "mnamesname =[('parallax', 'best18k'),\n",
    "            ('properMotion', 'best18k'),\n",
    "            ('fO', 'fONv MedianNvis'),\n",
    "            ('fO', 'fOArea')]"
   ]
  },
  {
   "cell_type": "code",
   "execution_count": 10,
   "metadata": {},
   "outputs": [],
   "source": [
    "for names in mnamesname:\n",
    "    column_vals = []\n",
    "    sql = 'select summaryValue from summarystats where metricId = (select metricId from metrics where metricName = \"%s\") and summaryName= \"%s\";' % (names[0], names[1])\n",
    "    for directory in glance_dirs:\n",
    "        conn = sqlite3.connect(directory+'/resultsDb_sqlite.db')\n",
    "        result = pd.read_sql(sql, conn).values.ravel()\n",
    "        if np.size(result) > 1:\n",
    "            ValueError\n",
    "        else:\n",
    "            column_vals.append(np.max(result))\n",
    "        conn.close()\n",
    "    df[names[0]+'_'+names[1]] = column_vals"
   ]
  },
  {
   "cell_type": "code",
   "execution_count": 11,
   "metadata": {},
   "outputs": [],
   "source": [
    "# Add the median coadded depths in each filter\n",
    "for filtername in 'ugrizy':\n",
    "    column_vals = []\n",
    "    sql = 'select summaryValue from summarystats where metricId = (select metricId from metrics where metricName = \"CoaddM5\" and metricMetadata=\"%s\") and summaryName= \"Median\";' % (filtername)\n",
    "    for directory in glance_dirs:\n",
    "        conn = sqlite3.connect(directory+'/resultsDb_sqlite.db')\n",
    "        result = pd.read_sql(sql, conn).values.ravel()\n",
    "        if np.size(result) > 1:\n",
    "            ValueError\n",
    "        else:\n",
    "            column_vals.append(np.max(result))\n",
    "        conn.close()\n",
    "    df['median_coadd_%s' % filtername] = column_vals\n"
   ]
  },
  {
   "cell_type": "code",
   "execution_count": 12,
   "metadata": {},
   "outputs": [],
   "source": [
    "# List of tupes with (metricName, summaryName) that we want to pull from science dirs\n",
    "mnamesname =[('SNNSNMetric_nSN', 'Total detected'),\n",
    "            ('1 to 10 day Microlensing', 'Fraction detected of total (mean)'),\n",
    "            ('100 to 1000 day Microlensing', 'Fraction detected of total (mean)'),\n",
    "            ('KNePopMetric__multi_color_detect', 'Fraction detected of total (mean)'),\n",
    "            ('GalaxyCountsMetric_extended', 'N Galaxies (all)'),\n",
    "            ('TDEsPopMetric__some_color', 'Fraction detected of total (mean)'),\n",
    "             ('TDEsPopMetric__some_color_pu', 'Fraction detected of total (mean)'), \n",
    "            ('WeakLensingNvisits', 'Median')]"
   ]
  },
  {
   "cell_type": "code",
   "execution_count": 13,
   "metadata": {},
   "outputs": [],
   "source": [
    "for names in mnamesname:\n",
    "    column_vals = []\n",
    "    sql = 'select summaryValue from summarystats where metricId = (select metricId from metrics where metricName = \"%s\") and summaryName= \"%s\";' % (names[0], names[1])\n",
    "    for directory in sci_dirs:\n",
    "        conn = sqlite3.connect(directory+'/resultsDb_sqlite.db')\n",
    "        result = pd.read_sql(sql, conn).values.ravel()\n",
    "        if np.size(result) > 1:\n",
    "            ValueError\n",
    "        else:\n",
    "            column_vals.append(np.max(result))\n",
    "        conn.close()\n",
    "    df[names[0]+'_'+names[1]] = column_vals"
   ]
  },
  {
   "cell_type": "code",
   "execution_count": 14,
   "metadata": {},
   "outputs": [
    {
     "data": {
      "text/plain": [
       "'./baseline_v2.1_10yrs_sci'"
      ]
     },
     "execution_count": 14,
     "metadata": {},
     "output_type": "execute_result"
    }
   ],
   "source": [
    "directory"
   ]
  },
  {
   "cell_type": "code",
   "execution_count": 15,
   "metadata": {},
   "outputs": [
    {
     "data": {
      "text/plain": [
       "'select summaryValue from summarystats where metricId = (select metricId from metrics where metricName = \"WeakLensingNvisits\") and summaryName= \"Median\";'"
      ]
     },
     "execution_count": 15,
     "metadata": {},
     "output_type": "execute_result"
    }
   ],
   "source": [
    "sql"
   ]
  },
  {
   "cell_type": "code",
   "execution_count": 16,
   "metadata": {},
   "outputs": [],
   "source": [
    "# things that need some metadata\n",
    "mnamesname =[('Nstars_no_crowding', 'Total N Stars, no crowding')]\n",
    "\n",
    "for names in mnamesname:\n",
    "    column_vals = []\n",
    "    sql = 'select summaryValue from summarystats where metricId = (select metricId from metrics where metricName = \"%s\" and metricMetadata=\"i\") and summaryName= \"%s\";' % (names[0], names[1])\n",
    "    for directory in sci_dirs:\n",
    "        conn = sqlite3.connect(directory+'/resultsDb_sqlite.db')\n",
    "        result = pd.read_sql(sql, conn).values.ravel()\n",
    "        if np.size(result) > 1:\n",
    "            ValueError\n",
    "        else:\n",
    "            column_vals.append(np.max(result))\n",
    "        conn.close()\n",
    "    df[names[0]+'_'+names[1]] = column_vals\n",
    "\n",
    "    \n",
    "mnamesname =[('ExgalM5_with_cuts', '3x2ptFoM')]\n",
    "\n",
    "for names in mnamesname:\n",
    "    column_vals = []\n",
    "    sql = 'select summaryValue from summarystats where metricId = (select metricId from metrics where metricName = \"%s\" and metricMetadata=\"i band non-DD year 10\") and summaryName= \"%s\";' % (names[0], names[1])\n",
    "    for directory in sci_dirs:\n",
    "        conn = sqlite3.connect(directory+'/resultsDb_sqlite.db')\n",
    "        result = pd.read_sql(sql, conn).values.ravel()\n",
    "        if np.size(result) > 1:\n",
    "            ValueError\n",
    "        else:\n",
    "            try:\n",
    "                column_vals.append(np.max(result))\n",
    "            except:\n",
    "                import pdb ;pdb.set_trace()\n",
    "        conn.close()\n",
    "    df[names[0]+'_'+names[1]] = column_vals\n"
   ]
  },
  {
   "cell_type": "code",
   "execution_count": 17,
   "metadata": {},
   "outputs": [
    {
     "data": {
      "text/plain": [
       "39.07465909568501"
      ]
     },
     "execution_count": 17,
     "metadata": {},
     "output_type": "execute_result"
    }
   ],
   "source": [
    "np.max(result)"
   ]
  },
  {
   "cell_type": "code",
   "execution_count": 18,
   "metadata": {},
   "outputs": [],
   "source": [
    "# Pull the DDF depths from everywhere. \n",
    "filters = 'ugrizy'\n",
    "ddf_names = ['DD:ELAISS1', 'DD:XMM-LSS', 'DD:ECDFS', 'DD:COSMOS', 'DD:EDFSa', 'DD:EDFSb']\n",
    "\n",
    "for filtername in filters:\n",
    "    for ddf_name in ddf_names:\n",
    "        column_vals = []\n",
    "        sql = 'select summaryValue from summarystats where summaryName=\"Median depth %s, %s\"' % (ddf_name, filtername)\n",
    "        for directory in sci_dirs:\n",
    "            conn = sqlite3.connect(directory+'/resultsDb_sqlite.db')\n",
    "            result = pd.read_sql(sql, conn).values.ravel()\n",
    "            if np.size(result) > 1:\n",
    "                ValueError\n",
    "            else:\n",
    "                column_vals.append(np.max(result))\n",
    "            conn.close()\n",
    "        df[ddf_name+','+filtername] = column_vals"
   ]
  },
  {
   "cell_type": "code",
   "execution_count": 19,
   "metadata": {},
   "outputs": [
    {
     "data": {
      "text/plain": [
       "'select summaryValue from summarystats where summaryName=\"Median depth DD:EDFSb, y\"'"
      ]
     },
     "execution_count": 19,
     "metadata": {},
     "output_type": "execute_result"
    }
   ],
   "source": [
    "sql"
   ]
  },
  {
   "cell_type": "code",
   "execution_count": 20,
   "metadata": {},
   "outputs": [],
   "source": [
    "# Now to pull things from the solar system results\n",
    "\n",
    "# here's what we used last time:\n",
    "#'3 pairs in 15 nights detection loss NEO H=16.0',\n",
    "#        '3 pairs in 30 nights detection loss NEO H=22.0',\n",
    "#       '3 pairs in 15 nights detection loss TNO H=4.0'\n",
    "\n",
    "faint_neo = []\n",
    "bright_neo = []\n",
    "tno = []\n",
    "\n",
    "for name in filenames:\n",
    "    conn = sqlite3.connect('%s_ss/resultsDb_sqlite.db' % name)\n",
    "    sql = 'select summaryValue from summarystats where summaryName=\"DifferentialCompleteness H = 16.000000\" and '+\\\n",
    "        'metricId = (select metricId from metrics where metricName =\"Discovery_N_Chances\" and metricMetadata=\"NEO 3 pairs in 15 nights detection loss\")'\n",
    "    val = np.max(pd.read_sql(sql, conn).values.ravel())\n",
    "    bright_neo.append(val)\n",
    "    \n",
    "    \n",
    "    sql = 'select summaryValue from summarystats where summaryName=\"DifferentialCompleteness H = 22.000000\" and '+\\\n",
    "        'metricId = (select metricId from metrics where metricName =\"Discovery_N_Chances\" and metricMetadata=\"NEO 3 pairs in 15 nights detection loss\")'\n",
    "\n",
    "    val = np.max(pd.read_sql(sql, conn).values.ravel())\n",
    "    faint_neo.append(val)\n",
    "    \n",
    "    #conn.close()\n",
    "    #conn = sqlite3.connect('%s_l7_5k/resultsDb_sqlite.db' % name)\n",
    "    \n",
    "    sql = 'select summaryValue from summarystats where summaryName=\"DifferentialCompleteness H = 6.000000\" and '+\\\n",
    "          'metricId = (select metricId from metrics where metricName =\"Discovery_N_Chances\" and metricMetadata=\"TNO 3 pairs in 15 nights detection loss\")'\n",
    "\n",
    "    try:\n",
    "        val = np.max(pd.read_sql(sql, conn).values.ravel())\n",
    "    except:\n",
    "        print(name)\n",
    "        val = 0\n",
    "    tno.append(val)\n",
    "    conn.close()\n",
    "    \n",
    "df['NEO bright'] = bright_neo\n",
    "df['NEO faint'] = faint_neo \n",
    "df['TNO'] = tno"
   ]
  },
  {
   "cell_type": "code",
   "execution_count": null,
   "metadata": {},
   "outputs": [],
   "source": []
  },
  {
   "cell_type": "code",
   "execution_count": 21,
   "metadata": {},
   "outputs": [
    {
     "data": {
      "text/plain": [
       "'select summaryValue from summarystats where summaryName=\"DifferentialCompleteness H = 6.000000\" and metricId = (select metricId from metrics where metricName =\"Discovery_N_Chances\" and metricMetadata=\"TNO 3 pairs in 15 nights detection loss\")'"
      ]
     },
     "execution_count": 21,
     "metadata": {},
     "output_type": "execute_result"
    }
   ],
   "source": [
    "sql"
   ]
  },
  {
   "cell_type": "code",
   "execution_count": 22,
   "metadata": {},
   "outputs": [
    {
     "data": {
      "text/plain": [
       "0    0.3652\n",
       "1    0.3726\n",
       "Name: NEO faint, dtype: float64"
      ]
     },
     "execution_count": 22,
     "metadata": {},
     "output_type": "execute_result"
    }
   ],
   "source": [
    "df['NEO faint']"
   ]
  },
  {
   "cell_type": "code",
   "execution_count": 23,
   "metadata": {},
   "outputs": [
    {
     "data": {
      "text/plain": [
       "0    0.9296\n",
       "1    0.9276\n",
       "Name: NEO bright, dtype: float64"
      ]
     },
     "execution_count": 23,
     "metadata": {},
     "output_type": "execute_result"
    }
   ],
   "source": [
    "df['NEO bright']"
   ]
  },
  {
   "cell_type": "code",
   "execution_count": 24,
   "metadata": {},
   "outputs": [
    {
     "data": {
      "text/plain": [
       "0    0.648\n",
       "1    0.652\n",
       "Name: TNO, dtype: float64"
      ]
     },
     "execution_count": 24,
     "metadata": {},
     "output_type": "execute_result"
    }
   ],
   "source": [
    "df['TNO']"
   ]
  },
  {
   "cell_type": "code",
   "execution_count": 25,
   "metadata": {},
   "outputs": [
    {
     "data": {
      "text/plain": [
       "'baseline_v2.0'"
      ]
     },
     "execution_count": 25,
     "metadata": {},
     "output_type": "execute_result"
    }
   ],
   "source": [
    "runNames[0]"
   ]
  },
  {
   "cell_type": "code",
   "execution_count": null,
   "metadata": {},
   "outputs": [],
   "source": []
  },
  {
   "cell_type": "code",
   "execution_count": null,
   "metadata": {},
   "outputs": [],
   "source": []
  },
  {
   "cell_type": "code",
   "execution_count": null,
   "metadata": {},
   "outputs": [],
   "source": []
  },
  {
   "cell_type": "code",
   "execution_count": 26,
   "metadata": {},
   "outputs": [
    {
     "data": {
      "text/plain": [
       "[<matplotlib.lines.Line2D at 0x7ff79b739880>]"
      ]
     },
     "execution_count": 26,
     "metadata": {},
     "output_type": "execute_result"
    },
    {
     "data": {
      "image/png": "[encoded data removed]",
      "text/plain": [
       "<Figure size 432x288 with 1 Axes>"
      ]
     },
     "metadata": {
      "needs_background": "light"
     },
     "output_type": "display_data"
    }
   ],
   "source": [
    "plt.plot(df['median_coadd_g'])"
   ]
  },
  {
   "cell_type": "code",
   "execution_count": null,
   "metadata": {},
   "outputs": [],
   "source": []
  },
  {
   "cell_type": "code",
   "execution_count": 27,
   "metadata": {},
   "outputs": [
    {
     "data": {
      "text/plain": [
       "Index(['runName', 'version', 'parallax_best18k', 'properMotion_best18k',\n",
       "       'fO_fONv MedianNvis', 'fO_fOArea', 'median_coadd_u', 'median_coadd_g',\n",
       "       'median_coadd_r', 'median_coadd_i', 'median_coadd_z', 'median_coadd_y',\n",
       "       'SNNSNMetric_nSN_Total detected',\n",
       "       '1 to 10 day Microlensing_Fraction detected of total (mean)',\n",
       "       '100 to 1000 day Microlensing_Fraction detected of total (mean)',\n",
       "       'KNePopMetric__multi_color_detect_Fraction detected of total (mean)',\n",
       "       'GalaxyCountsMetric_extended_N Galaxies (all)',\n",
       "       'TDEsPopMetric__some_color_Fraction detected of total (mean)',\n",
       "       'TDEsPopMetric__some_color_pu_Fraction detected of total (mean)',\n",
       "       'WeakLensingNvisits_Median',\n",
       "       'Nstars_no_crowding_Total N Stars, no crowding',\n",
       "       'ExgalM5_with_cuts_3x2ptFoM', 'DD:ELAISS1,u', 'DD:XMM-LSS,u',\n",
       "       'DD:ECDFS,u', 'DD:COSMOS,u', 'DD:EDFSa,u', 'DD:EDFSb,u', 'DD:ELAISS1,g',\n",
       "       'DD:XMM-LSS,g', 'DD:ECDFS,g', 'DD:COSMOS,g', 'DD:EDFSa,g', 'DD:EDFSb,g',\n",
       "       'DD:ELAISS1,r', 'DD:XMM-LSS,r', 'DD:ECDFS,r', 'DD:COSMOS,r',\n",
       "       'DD:EDFSa,r', 'DD:EDFSb,r', 'DD:ELAISS1,i', 'DD:XMM-LSS,i',\n",
       "       'DD:ECDFS,i', 'DD:COSMOS,i', 'DD:EDFSa,i', 'DD:EDFSb,i', 'DD:ELAISS1,z',\n",
       "       'DD:XMM-LSS,z', 'DD:ECDFS,z', 'DD:COSMOS,z', 'DD:EDFSa,z', 'DD:EDFSb,z',\n",
       "       'DD:ELAISS1,y', 'DD:XMM-LSS,y', 'DD:ECDFS,y', 'DD:COSMOS,y',\n",
       "       'DD:EDFSa,y', 'DD:EDFSb,y', 'NEO bright', 'NEO faint', 'TNO'],\n",
       "      dtype='object')"
      ]
     },
     "execution_count": 27,
     "metadata": {},
     "output_type": "execute_result"
    }
   ],
   "source": [
    "df.columns"
   ]
  },
  {
   "cell_type": "code",
   "execution_count": 28,
   "metadata": {},
   "outputs": [],
   "source": [
    "# pickle would be much smaller, but I guess can zip after if we want to\n",
    "df.to_hdf('combined_maf_dataframe.hdf', 'maf')\n",
    "# restore with:\n",
    "# df = pd.read_hdf('combined_maf_dataframe.hdf', 'maf')"
   ]
  },
  {
   "cell_type": "code",
   "execution_count": null,
   "metadata": {},
   "outputs": [],
   "source": []
  },
  {
   "cell_type": "code",
   "execution_count": null,
   "metadata": {},
   "outputs": [],
   "source": []
  },
  {
   "cell_type": "code",
   "execution_count": null,
   "metadata": {},
   "outputs": [],
   "source": []
  },
  {
   "cell_type": "code",
   "execution_count": null,
   "metadata": {},
   "outputs": [],
   "source": []
  },
  {
   "cell_type": "code",
   "execution_count": null,
   "metadata": {},
   "outputs": [],
   "source": []
  },
  {
   "cell_type": "code",
   "execution_count": null,
   "metadata": {},
   "outputs": [],
   "source": []
  }
 ],
 "metadata": {
  "kernelspec": {
   "display_name": "Python 3 (ipykernel)",
   "language": "python",
   "name": "python3"
  },
  "language_info": {
   "codemirror_mode": {
    "name": "ipython",
    "version": 3
   },
   "file_extension": ".py",
   "mimetype": "text/x-python",
   "name": "python",
   "nbconvert_exporter": "python",
   "pygments_lexer": "ipython3",
   "version": "3.8.12"
  }
 },
 "nbformat": 4,
 "nbformat_minor": 2
}
