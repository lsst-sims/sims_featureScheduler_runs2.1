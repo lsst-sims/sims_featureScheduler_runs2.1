{
 "cells": [
  {
   "cell_type": "code",
   "execution_count": 1,
   "id": "39ae0f6d",
   "metadata": {},
   "outputs": [],
   "source": [
    "import numpy as np\n",
    "import pandas as pd\n",
    "import matplotlib.pylab as plt\n",
    "%matplotlib inline\n",
    "import sqlite3"
   ]
  },
  {
   "cell_type": "code",
   "execution_count": 2,
   "id": "c6909b39",
   "metadata": {},
   "outputs": [],
   "source": [
    "con = sqlite3.connect('orig_baseline_v2.1_0yrs.db')\n",
    "q = 'select * from observations;'\n",
    "df1 = pd.read_sql(q, con)\n",
    "con.close()"
   ]
  },
  {
   "cell_type": "code",
   "execution_count": 3,
   "id": "58ee6796",
   "metadata": {},
   "outputs": [],
   "source": [
    "con = sqlite3.connect('baseline_v2.1_0yrs.db')\n",
    "df2 = pd.read_sql(q, con)\n",
    "con.close()"
   ]
  },
  {
   "cell_type": "code",
   "execution_count": 7,
   "id": "46308569",
   "metadata": {},
   "outputs": [
    {
     "data": {
      "text/plain": [
       "5.684341886080802e-14"
      ]
     },
     "execution_count": 7,
     "metadata": {},
     "output_type": "execute_result"
    }
   ],
   "source": [
    "np.max(np.abs(df1['rotTelPos']-df2['rotTelPos']))"
   ]
  },
  {
   "cell_type": "code",
   "execution_count": 11,
   "id": "1939094b",
   "metadata": {},
   "outputs": [
    {
     "data": {
      "text/plain": [
       "array([ 62.75077469,  62.29172208,  62.09038003, ...,  34.21862892,\n",
       "        38.54374167, 316.7525038 ])"
      ]
     },
     "execution_count": 11,
     "metadata": {},
     "output_type": "execute_result"
    }
   ],
   "source": [
    "df1['rotSkyPos'].values % 360"
   ]
  },
  {
   "cell_type": "code",
   "execution_count": 9,
   "id": "f1cf12b1",
   "metadata": {},
   "outputs": [
    {
     "data": {
      "text/plain": [
       "0         62.750775\n",
       "1         62.291722\n",
       "2         62.090380\n",
       "3         62.161663\n",
       "4         50.709377\n",
       "            ...    \n",
       "21365     29.939207\n",
       "21366     23.652697\n",
       "21367     34.218629\n",
       "21368     38.543742\n",
       "21369    316.752504\n",
       "Name: rotSkyPos, Length: 21370, dtype: float64"
      ]
     },
     "execution_count": 9,
     "metadata": {},
     "output_type": "execute_result"
    }
   ],
   "source": [
    "df2['rotSkyPos']"
   ]
  },
  {
   "cell_type": "code",
   "execution_count": null,
   "id": "b2b1f477",
   "metadata": {},
   "outputs": [],
   "source": []
  }
 ],
 "metadata": {
  "kernelspec": {
   "display_name": "Python 3 (ipykernel)",
   "language": "python",
   "name": "python3"
  },
  "language_info": {
   "codemirror_mode": {
    "name": "ipython",
    "version": 3
   },
   "file_extension": ".py",
   "mimetype": "text/x-python",
   "name": "python",
   "nbconvert_exporter": "python",
   "pygments_lexer": "ipython3",
   "version": "3.8.12"
  }
 },
 "nbformat": 4,
 "nbformat_minor": 5
}
