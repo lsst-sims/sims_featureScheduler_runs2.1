{
 "cells": [
  {
   "cell_type": "code",
   "execution_count": 12,
   "id": "68f3aa98",
   "metadata": {},
   "outputs": [],
   "source": [
    "import numpy as np\n",
    "from make_ddf_survey import generate_ddf_scheduled_obs, optimize_ddf_times\n",
    "from rubin_sim.utils import calcSeason, ddf_locations\n",
    "import matplotlib.pylab as plt\n",
    "%matplotlib inline"
   ]
  },
  {
   "cell_type": "code",
   "execution_count": 2,
   "id": "d912f882",
   "metadata": {},
   "outputs": [],
   "source": [
    "names = ['XMM_LSS', 'COSMOS'] + ['ELAISS1', 'ECDFS', 'EDFS_a']"
   ]
  },
  {
   "cell_type": "code",
   "execution_count": 3,
   "id": "c101b743",
   "metadata": {},
   "outputs": [],
   "source": [
    "data_file='ddf_grid.npz'\n",
    "ddf_data = np.load(data_file)\n",
    "ddf_grid = ddf_data['ddf_grid'].copy()"
   ]
  },
  {
   "cell_type": "code",
   "execution_count": 4,
   "id": "559c370a",
   "metadata": {},
   "outputs": [
    {
     "data": {
      "text/plain": [
       "array([(60218.        , -0.29811383, 1.80175978, 21.90519431, 24.09010789,  -15.87772901, nan, nan, -12.88972328, nan, nan, -1.32240592, nan, nan, 10.11455854, nan, nan, 25.73116666, nan, nan),\n",
       "       (60218.01041667, -0.35266804, 1.68622247, 22.01955751, 24.20762808, -148.93641028, nan, nan, -31.85669643, nan, nan, -1.27536809, nan, nan,  7.61004813, nan, nan, 14.10008807, nan, nan),\n",
       "       (60218.02083333, -0.40660643, 1.58724299, 20.50823798, 23.57185679,   20.09596041, nan, nan,  62.66969967, nan, nan, -1.2365772 , nan, nan,  6.05980576, nan, nan,  9.58994955, nan, nan),\n",
       "       ...,\n",
       "       (63870.46874915,  0.18514584, 0.        ,         nan,         nan,    0.        , nan, nan,   0.        ,  0., inf,  0.        ,  0., inf,  0.        ,  0., inf,  0.        ,  0., inf),\n",
       "       (63870.47916582,  0.24161748, 0.        ,         nan,         nan,    0.        , nan, nan,   0.        ,  0., inf,  0.        ,  0., inf,  0.        ,  0., inf,  0.        ,  0., inf),\n",
       "       (63870.48958248,  0.29793358, 0.        ,         nan,         nan,    0.        , nan, nan,   0.        ,  0., inf,  0.        ,  0., inf,  0.        ,  0., inf,  0.        ,  0., inf)],\n",
       "      dtype=[('mjd', '<f8'), ('sun_alt', '<f8'), ('ELAISS1_airmass', '<f8'), ('ELAISS1_sky_g', '<f8'), ('ELAISS1_m5_g', '<f8'), ('XMM_LSS_airmass', '<f8'), ('XMM_LSS_sky_g', '<f8'), ('XMM_LSS_m5_g', '<f8'), ('ECDFS_airmass', '<f8'), ('ECDFS_sky_g', '<f8'), ('ECDFS_m5_g', '<f8'), ('COSMOS_airmass', '<f8'), ('COSMOS_sky_g', '<f8'), ('COSMOS_m5_g', '<f8'), ('EDFS_a_airmass', '<f8'), ('EDFS_a_sky_g', '<f8'), ('EDFS_a_m5_g', '<f8'), ('EDFS_b_airmass', '<f8'), ('EDFS_b_sky_g', '<f8'), ('EDFS_b_m5_g', '<f8')])"
      ]
     },
     "execution_count": 4,
     "metadata": {},
     "output_type": "execute_result"
    }
   ],
   "source": [
    "ddf_grid"
   ]
  },
  {
   "cell_type": "code",
   "execution_count": 6,
   "id": "dbc2531d",
   "metadata": {},
   "outputs": [],
   "source": [
    "ddfs = ddf_locations()"
   ]
  },
  {
   "cell_type": "code",
   "execution_count": 7,
   "id": "192cd8c1",
   "metadata": {},
   "outputs": [
    {
     "data": {
      "text/plain": [
       "{'ELAISS1': (9.45, -44.0),\n",
       " 'XMM_LSS': (35.708333, -4.75),\n",
       " 'ECDFS': (53.125, -28.1),\n",
       " 'COSMOS': (150.1, 2.1819444444444445),\n",
       " 'EDFS_a': (58.9, -49.315),\n",
       " 'EDFS_b': (63.6, -47.6)}"
      ]
     },
     "execution_count": 7,
     "metadata": {},
     "output_type": "execute_result"
    }
   ],
   "source": [
    "ddfs"
   ]
  },
  {
   "cell_type": "code",
   "execution_count": 14,
   "id": "128a3eaf",
   "metadata": {},
   "outputs": [],
   "source": [
    "season = calcSeason(ddfs['ELAISS1'][0], ddf_grid['mjd'])"
   ]
  },
  {
   "cell_type": "code",
   "execution_count": 15,
   "id": "6863abd9",
   "metadata": {},
   "outputs": [
    {
     "data": {
      "text/plain": [
       "[<matplotlib.lines.Line2D at 0x7fc24055a220>]"
      ]
     },
     "execution_count": 15,
     "metadata": {},
     "output_type": "execute_result"
    },
    {
     "data": {
      "image/png": "[encoded data removed]",
      "text/plain": [
       "<Figure size 432x288 with 1 Axes>"
      ]
     },
     "metadata": {
      "needs_background": "light"
     },
     "output_type": "display_data"
    }
   ],
   "source": [
    "plt.plot(ddf_grid['mjd'], season)"
   ]
  },
  {
   "cell_type": "code",
   "execution_count": 18,
   "id": "c6dd710c",
   "metadata": {},
   "outputs": [
    {
     "name": "stdout",
     "output_type": "stream",
     "text": [
      "XMM_LSS [60426.85416662 60792.10416653 61157.35416645 61522.60416636\n",
      " 61887.85416628 62253.10416619 62618.35416611 62983.60416602\n",
      " 63348.85416594 63714.10416585]\n",
      "COSMOS [60542.90624992 60908.15624984 61273.40624975 61638.65624967\n",
      " 62003.90624958 62369.1562495  62734.40624941 63099.65624933\n",
      " 63464.90624924 63830.15624916]\n",
      "ELAISS1 [60400.20833329 60765.45833321 61130.70833312 61495.95833304\n",
      " 61861.20833295 62226.45833287 62591.70833278 62956.9583327\n",
      " 63322.20833261 63687.45833253]\n",
      "ECDFS [60444.52083328 60809.7708332  61175.02083311 61540.27083303\n",
      " 61905.52083294 62270.77083286 62636.02083277 63001.27083269\n",
      " 63366.5208326  63731.77083252]\n",
      "EDFS_a [60450.37499995 60815.62499986 61180.87499978 61546.12499969\n",
      " 61911.37499961 62276.62499952 62641.87499944 63007.12499935\n",
      " 63372.37499927 63737.62499918]\n"
     ]
    }
   ],
   "source": [
    "\n",
    "for name in names:\n",
    "    season = calcSeason(ddfs[name][0], ddf_grid['mjd'])\n",
    "    diffs = np.diff(np.floor(season))\n",
    "    changes = ddf_grid['mjd'][np.where(diffs > 0)]\n",
    "    print(name, changes)"
   ]
  },
  {
   "cell_type": "code",
   "execution_count": null,
   "id": "18db52d8",
   "metadata": {},
   "outputs": [],
   "source": []
  }
 ],
 "metadata": {
  "kernelspec": {
   "display_name": "Python 3 (ipykernel)",
   "language": "python",
   "name": "python3"
  },
  "language_info": {
   "codemirror_mode": {
    "name": "ipython",
    "version": 3
   },
   "file_extension": ".py",
   "mimetype": "text/x-python",
   "name": "python",
   "nbconvert_exporter": "python",
   "pygments_lexer": "ipython3",
   "version": "3.8.12"
  }
 },
 "nbformat": 4,
 "nbformat_minor": 5
}
