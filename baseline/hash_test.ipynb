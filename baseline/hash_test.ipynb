{
 "cells": [
  {
   "cell_type": "code",
   "execution_count": 1,
   "id": "0d394a6b",
   "metadata": {},
   "outputs": [],
   "source": [
    "import numpy as np"
   ]
  },
  {
   "cell_type": "code",
   "execution_count": 5,
   "id": "8659ee7d",
   "metadata": {},
   "outputs": [],
   "source": [
    "x1 = np.random.rand(10)\n",
    "x2 = np.random.rand(10)\n",
    "x3 = np.arange(10)+20"
   ]
  },
  {
   "cell_type": "code",
   "execution_count": 11,
   "id": "2d594ed7",
   "metadata": {},
   "outputs": [],
   "source": [
    "def single_hash(*args):\n",
    "    return hash(args)\n",
    "\n",
    "vhash = np.vectorize(single_hash)"
   ]
  },
  {
   "cell_type": "code",
   "execution_count": 16,
   "id": "86ab65e5",
   "metadata": {},
   "outputs": [],
   "source": [
    "hashes = np.sort(vhash(x1,x2,x3))"
   ]
  },
  {
   "cell_type": "code",
   "execution_count": 17,
   "id": "07c48185",
   "metadata": {},
   "outputs": [
    {
     "data": {
      "text/plain": [
       "array([-6107564247711460890, -5151549835435176036, -4432223787163482750,\n",
       "       -1665628935502080282, -1008623435089021917,  -753894789000101742,\n",
       "         154679534863288440,  1947863462331331094,  2154341427266573642,\n",
       "        3006040385492594141])"
      ]
     },
     "execution_count": 17,
     "metadata": {},
     "output_type": "execute_result"
    }
   ],
   "source": [
    "hashes"
   ]
  },
  {
   "cell_type": "code",
   "execution_count": null,
   "id": "9c817843",
   "metadata": {},
   "outputs": [],
   "source": []
  },
  {
   "cell_type": "code",
   "execution_count": null,
   "id": "441f2bd6",
   "metadata": {},
   "outputs": [],
   "source": []
  }
 ],
 "metadata": {
  "kernelspec": {
   "display_name": "Python 3 (ipykernel)",
   "language": "python",
   "name": "python3"
  },
  "language_info": {
   "codemirror_mode": {
    "name": "ipython",
    "version": 3
   },
   "file_extension": ".py",
   "mimetype": "text/x-python",
   "name": "python",
   "nbconvert_exporter": "python",
   "pygments_lexer": "ipython3",
   "version": "3.8.12"
  }
 },
 "nbformat": 4,
 "nbformat_minor": 5
}
