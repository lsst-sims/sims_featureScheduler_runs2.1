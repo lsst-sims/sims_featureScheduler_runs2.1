{
 "cells": [
  {
   "cell_type": "code",
   "execution_count": 1,
   "id": "58611bb0",
   "metadata": {},
   "outputs": [],
   "source": [
    "import rubin_sim.maf as maf\n",
    "import numpy as np\n",
    "import matplotlib.pylab as plt\n",
    "%matplotlib inline\n",
    "import time"
   ]
  },
  {
   "cell_type": "code",
   "execution_count": 2,
   "id": "f1788db8",
   "metadata": {},
   "outputs": [],
   "source": [
    "filename = 'baseline_v2.1_10yrs.db'\n",
    "runName = filename.replace('.db', '')"
   ]
  },
  {
   "cell_type": "code",
   "execution_count": 3,
   "id": "d8e339e2",
   "metadata": {},
   "outputs": [],
   "source": [
    "bundleList = []\n",
    "slicer = maf.generatePrestoPopSlicer(skyregion=\"extragalactic\")\n",
    "metric = maf.PrestoColorKNePopMetric(\n",
    "    skyregion=\"extragalactic\", metricName=\"PrestoKNe\"\n",
    ")\n",
    "summaryMetrics_kne = [maf.MedianMetric(), maf.SumMetric()]\n",
    "bundleList.append(\n",
    "        maf.MetricBundle(\n",
    "            metric,\n",
    "            slicer,\n",
    "            None,\n",
    "            runName='',\n",
    "            summaryMetrics=summaryMetrics_kne,\n",
    "        )\n",
    "    )"
   ]
  },
  {
   "cell_type": "code",
   "execution_count": 4,
   "id": "c5ca0850",
   "metadata": {},
   "outputs": [],
   "source": [
    "outDir = 'test_presto'\n",
    "bdict = maf.makeBundlesDictFromList(bundleList)\n",
    "g = maf.MetricBundleGroup(bdict, filename, outDir)\n",
    "\n"
   ]
  },
  {
   "cell_type": "code",
   "execution_count": 5,
   "id": "26c8bdab",
   "metadata": {},
   "outputs": [
    {
     "name": "stdout",
     "output_type": "stream",
     "text": [
      "Querying table None with no constraint for columns ['night', 'fiveSigmaDepth', 'fieldRA', 'rotSkyPos', 'filter', 'observationStartMJD', 'fieldDec'].\n",
      "Found 2081749 visits\n",
      "Running:  ['_PrestoKNe_USER']\n",
      "Completed metric generation.\n",
      "Running reduce methods.\n",
      "Running summary statistics.\n",
      "Completed.\n",
      "runtime= 129.87680888175964\n"
     ]
    }
   ],
   "source": [
    "t1 = time.time()\n",
    "g.runAll()\n",
    "t2 = time.time()\n",
    "print('runtime=', t2-t1)"
   ]
  },
  {
   "cell_type": "code",
   "execution_count": 6,
   "id": "8e899b53",
   "metadata": {},
   "outputs": [],
   "source": [
    "bundleList = []\n",
    "slicer = maf.generatePrestoPopSlicer(skyregion=\"extragalactic\", n_events=20000)\n",
    "metric = maf.PrestoColorKNePopMetric(\n",
    "    skyregion=\"extragalactic\", metricName=\"PrestoKNe\"\n",
    ")\n",
    "summaryMetrics_kne = [maf.MedianMetric(), maf.SumMetric()]\n",
    "bundleList.append(\n",
    "        maf.MetricBundle(\n",
    "            metric,\n",
    "            slicer,\n",
    "            None,\n",
    "            runName='',\n",
    "            summaryMetrics=summaryMetrics_kne,\n",
    "        )\n",
    "    )\n",
    "\n",
    "bdict = maf.makeBundlesDictFromList(bundleList)\n",
    "g = maf.MetricBundleGroup(bdict, filename, outDir)\n"
   ]
  },
  {
   "cell_type": "code",
   "execution_count": 7,
   "id": "ce6e21f1",
   "metadata": {},
   "outputs": [
    {
     "name": "stdout",
     "output_type": "stream",
     "text": [
      "Querying table None with no constraint for columns ['night', 'fiveSigmaDepth', 'fieldRA', 'rotSkyPos', 'filter', 'observationStartMJD', 'fieldDec'].\n",
      "Found 2081749 visits\n",
      "Running:  ['_PrestoKNe_USER']\n",
      "Completed metric generation.\n",
      "Running reduce methods.\n",
      "Running summary statistics.\n",
      "Completed.\n",
      "runtime= 195.06448817253113\n"
     ]
    }
   ],
   "source": [
    "t1 = time.time()\n",
    "g.runAll()\n",
    "t2 = time.time()\n",
    "print('runtime=', t2-t1)"
   ]
  },
  {
   "cell_type": "code",
   "execution_count": 8,
   "id": "b8979a91",
   "metadata": {},
   "outputs": [],
   "source": [
    "bundleList = []\n",
    "slicer = maf.generatePrestoPopSlicer(skyregion=\"extragalactic\", n_events=60000)\n",
    "metric = maf.PrestoColorKNePopMetric(\n",
    "    skyregion=\"extragalactic\", metricName=\"PrestoKNe\"\n",
    ")\n",
    "summaryMetrics_kne = [maf.MedianMetric(), maf.SumMetric()]\n",
    "bundleList.append(\n",
    "        maf.MetricBundle(\n",
    "            metric,\n",
    "            slicer,\n",
    "            None,\n",
    "            runName='',\n",
    "            summaryMetrics=summaryMetrics_kne,\n",
    "        )\n",
    "    )\n",
    "\n",
    "bdict = maf.makeBundlesDictFromList(bundleList)\n",
    "g = maf.MetricBundleGroup(bdict, filename, outDir)\n"
   ]
  },
  {
   "cell_type": "code",
   "execution_count": 9,
   "id": "f689a86d",
   "metadata": {},
   "outputs": [
    {
     "name": "stdout",
     "output_type": "stream",
     "text": [
      "Querying table None with no constraint for columns ['night', 'fiveSigmaDepth', 'fieldRA', 'rotSkyPos', 'filter', 'observationStartMJD', 'fieldDec'].\n",
      "Found 2081749 visits\n",
      "Running:  ['_PrestoKNe_USER']\n",
      "Completed metric generation.\n",
      "Running reduce methods.\n",
      "Running summary statistics.\n",
      "Completed.\n",
      "runtime= 1821.4116399288177\n"
     ]
    }
   ],
   "source": [
    "t1 = time.time()\n",
    "g.runAll()\n",
    "t2 = time.time()\n",
    "print('runtime=', t2-t1)"
   ]
  },
  {
   "cell_type": "code",
   "execution_count": 10,
   "id": "e5266808",
   "metadata": {},
   "outputs": [
    {
     "data": {
      "text/plain": [
       "30.35"
      ]
     },
     "execution_count": 10,
     "metadata": {},
     "output_type": "execute_result"
    }
   ],
   "source": [
    "1821/60."
   ]
  },
  {
   "cell_type": "code",
   "execution_count": 12,
   "id": "fac1a648",
   "metadata": {},
   "outputs": [
    {
     "data": {
      "text/plain": [
       "0.020412414523193152"
      ]
     },
     "execution_count": 12,
     "metadata": {},
     "output_type": "execute_result"
    }
   ],
   "source": [
    "(400*6)**-.5"
   ]
  },
  {
   "cell_type": "code",
   "execution_count": null,
   "id": "f18c8241",
   "metadata": {},
   "outputs": [],
   "source": []
  }
 ],
 "metadata": {
  "kernelspec": {
   "display_name": "Python 3 (ipykernel)",
   "language": "python",
   "name": "python3"
  },
  "language_info": {
   "codemirror_mode": {
    "name": "ipython",
    "version": 3
   },
   "file_extension": ".py",
   "mimetype": "text/x-python",
   "name": "python",
   "nbconvert_exporter": "python",
   "pygments_lexer": "ipython3",
   "version": "3.8.12"
  }
 },
 "nbformat": 4,
 "nbformat_minor": 5
}
