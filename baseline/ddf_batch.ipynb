{
 "cells": [
  {
   "cell_type": "code",
   "execution_count": 1,
   "id": "5e6b6198",
   "metadata": {},
   "outputs": [],
   "source": [
    "import numpy as np\n",
    "import matplotlib.pylab as plt\n",
    "%matplotlib inline\n",
    "import rubin_sim.maf as maf"
   ]
  },
  {
   "cell_type": "code",
   "execution_count": 2,
   "id": "35e70b1e",
   "metadata": {},
   "outputs": [
    {
     "name": "stdout",
     "output_type": "stream",
     "text": [
      "Healpix slicer using NSIDE=64, approximate resolution 54.967783 arcminutes\n",
      "Loading  /Users/yoachim/rubin_sim_data/maf/SNe_data/LC_-2.0_0.2_380.0_800.0_ebvofMW_0.0_vstack.hdf5 g 18174 699 26\n",
      "Loading  /Users/yoachim/rubin_sim_data/maf/SNe_data/LC_-2.0_0.2_380.0_800.0_ebvofMW_0.0_vstack.hdf5 i 68502 699 98\n",
      "Loading  /Users/yoachim/rubin_sim_data/maf/SNe_data/LC_-2.0_0.2_380.0_800.0_ebvofMW_0.0_vstack.hdf5 r 44037 699 63\n",
      "Loading  /Users/yoachim/rubin_sim_data/maf/SNe_data/LC_-2.0_0.2_380.0_800.0_ebvofMW_0.0_vstack.hdf5 y 54522 699 78\n",
      "Loading  /Users/yoachim/rubin_sim_data/maf/SNe_data/LC_-2.0_0.2_380.0_800.0_ebvofMW_0.0_vstack.hdf5 z 63609 699 91\n",
      "Loading  /Users/yoachim/rubin_sim_data/maf/SNe_data/LC_0.0_0.0_380.0_800.0_ebvofMW_0.0_vstack.hdf5 g 18174 699 26\n",
      "Loading  /Users/yoachim/rubin_sim_data/maf/SNe_data/LC_0.0_0.0_380.0_800.0_ebvofMW_0.0_vstack.hdf5 i 68502 699 98\n",
      "Loading  /Users/yoachim/rubin_sim_data/maf/SNe_data/LC_0.0_0.0_380.0_800.0_ebvofMW_0.0_vstack.hdf5 r 44037 699 63\n",
      "Loading  /Users/yoachim/rubin_sim_data/maf/SNe_data/LC_0.0_0.0_380.0_800.0_ebvofMW_0.0_vstack.hdf5 y 68502 699 98\n",
      "Loading  /Users/yoachim/rubin_sim_data/maf/SNe_data/LC_0.0_0.0_380.0_800.0_ebvofMW_0.0_vstack.hdf5 z 77589 699 111\n",
      "Healpix slicer using NSIDE=512, approximate resolution 6.870973 arcminutes\n",
      "Healpix slicer using NSIDE=64, approximate resolution 54.967783 arcminutes\n",
      "Healpix slicer using NSIDE=512, approximate resolution 6.870973 arcminutes\n",
      "Healpix slicer using NSIDE=64, approximate resolution 54.967783 arcminutes\n",
      "Healpix slicer using NSIDE=512, approximate resolution 6.870973 arcminutes\n",
      "Healpix slicer using NSIDE=64, approximate resolution 54.967783 arcminutes\n",
      "Healpix slicer using NSIDE=512, approximate resolution 6.870973 arcminutes\n",
      "Healpix slicer using NSIDE=64, approximate resolution 54.967783 arcminutes\n",
      "Healpix slicer using NSIDE=512, approximate resolution 6.870973 arcminutes\n"
     ]
    }
   ],
   "source": [
    "dbfile = 'baseline_v2.1_10yrs.db'\n",
    "bd = maf.ddfBatch(runName=dbfile.replace('.db', ''))\n"
   ]
  },
  {
   "cell_type": "code",
   "execution_count": 3,
   "id": "dfbcc008",
   "metadata": {},
   "outputs": [],
   "source": [
    "name = dbfile.replace('.db', '')\n",
    "resultsDb = maf.ResultsDb(outDir= name + '_ddf')\n",
    "\n"
   ]
  },
  {
   "cell_type": "code",
   "execution_count": 4,
   "id": "d6c53b86",
   "metadata": {},
   "outputs": [],
   "source": [
    "# cut down to just the XMM ones\n",
    "trimmed_bd = {}\n",
    "for key in bd:\n",
    "    if 'XMM' in key:\n",
    "        trimmed_bd[key] = bd[key]"
   ]
  },
  {
   "cell_type": "code",
   "execution_count": 5,
   "id": "60c79e39",
   "metadata": {},
   "outputs": [
    {
     "data": {
      "text/plain": [
       "{'baseline_v2_1_10yrs_XMM-LSS_SNe_HEAL': <rubin_sim.maf.metricBundles.metricBundle.MetricBundle at 0x7ff48d055490>,\n",
       " 'baseline_v2_1_10yrs_SnL_XMM-LSS_HEAL': <rubin_sim.maf.metricBundles.metricBundle.MetricBundle at 0x7ff48d0567c0>,\n",
       " 'baseline_v2_1_10yrs_QSO_N_u_XMM-LSS_u_HEAL': <rubin_sim.maf.metricBundles.metricBundle.MetricBundle at 0x7ff48d056ac0>,\n",
       " 'baseline_v2_1_10yrs_QSO_N_g_XMM-LSS_g_HEAL': <rubin_sim.maf.metricBundles.metricBundle.MetricBundle at 0x7ff48d056670>,\n",
       " 'baseline_v2_1_10yrs_QSO_N_r_XMM-LSS_r_HEAL': <rubin_sim.maf.metricBundles.metricBundle.MetricBundle at 0x7ff48d0565e0>,\n",
       " 'baseline_v2_1_10yrs_QSO_N_i_XMM-LSS_i_HEAL': <rubin_sim.maf.metricBundles.metricBundle.MetricBundle at 0x7ff48d056b80>,\n",
       " 'baseline_v2_1_10yrs_QSO_N_z_XMM-LSS_z_HEAL': <rubin_sim.maf.metricBundles.metricBundle.MetricBundle at 0x7ff48d04b3d0>,\n",
       " 'baseline_v2_1_10yrs_QSO_N_y_XMM-LSS_y_HEAL': <rubin_sim.maf.metricBundles.metricBundle.MetricBundle at 0x7ff48d04b550>,\n",
       " 'baseline_v2_1_10yrs_XMM-LSS_5-sigma_u_u_HEAL': <rubin_sim.maf.metricBundles.metricBundle.MetricBundle at 0x7ff48d04bdf0>,\n",
       " 'baseline_v2_1_10yrs_XMM-LSS_Count_u_u_HEAL': <rubin_sim.maf.metricBundles.metricBundle.MetricBundle at 0x7ff48d04ba90>,\n",
       " 'baseline_v2_1_10yrs_XMM-LSS_5-sigma_g_g_HEAL': <rubin_sim.maf.metricBundles.metricBundle.MetricBundle at 0x7ff48d04bee0>,\n",
       " 'baseline_v2_1_10yrs_XMM-LSS_Count_g_g_HEAL': <rubin_sim.maf.metricBundles.metricBundle.MetricBundle at 0x7ff48d04b820>,\n",
       " 'baseline_v2_1_10yrs_XMM-LSS_5-sigma_r_r_HEAL': <rubin_sim.maf.metricBundles.metricBundle.MetricBundle at 0x7ff48d04b730>,\n",
       " 'baseline_v2_1_10yrs_XMM-LSS_Count_r_r_HEAL': <rubin_sim.maf.metricBundles.metricBundle.MetricBundle at 0x7ff48d04b5b0>,\n",
       " 'baseline_v2_1_10yrs_XMM-LSS_5-sigma_i_i_HEAL': <rubin_sim.maf.metricBundles.metricBundle.MetricBundle at 0x7ff4a0b9e340>,\n",
       " 'baseline_v2_1_10yrs_XMM-LSS_Count_i_i_HEAL': <rubin_sim.maf.metricBundles.metricBundle.MetricBundle at 0x7ff4a0b9e3d0>,\n",
       " 'baseline_v2_1_10yrs_XMM-LSS_5-sigma_z_z_HEAL': <rubin_sim.maf.metricBundles.metricBundle.MetricBundle at 0x7ff4a0b9e250>,\n",
       " 'baseline_v2_1_10yrs_XMM-LSS_Count_z_z_HEAL': <rubin_sim.maf.metricBundles.metricBundle.MetricBundle at 0x7ff4a0b9e550>,\n",
       " 'baseline_v2_1_10yrs_XMM-LSS_5-sigma_y_y_HEAL': <rubin_sim.maf.metricBundles.metricBundle.MetricBundle at 0x7ff4a0b9e310>,\n",
       " 'baseline_v2_1_10yrs_XMM-LSS_Count_y_y_HEAL': <rubin_sim.maf.metricBundles.metricBundle.MetricBundle at 0x7ff4a0b9e0a0>,\n",
       " 'baseline_v2_1_10yrs_XMM-LSS_Count_all_HEAL': <rubin_sim.maf.metricBundles.metricBundle.MetricBundle at 0x7ff4a0b9e190>,\n",
       " 'baseline_v2_1_10yrs_Median_Inter-Night_Gap_XMM-LSS_u_note_like_DD_XMM-LSS_and_u_USER': <rubin_sim.maf.metricBundles.metricBundle.MetricBundle at 0x7ff4a0b9e6a0>,\n",
       " 'baseline_v2_1_10yrs_Median_Inter-Night_Gap_XMM-LSS_g_note_like_DD_XMM-LSS_and_g_USER': <rubin_sim.maf.metricBundles.metricBundle.MetricBundle at 0x7ff4a0b9e730>,\n",
       " 'baseline_v2_1_10yrs_Median_Inter-Night_Gap_XMM-LSS_r_note_like_DD_XMM-LSS_and_r_USER': <rubin_sim.maf.metricBundles.metricBundle.MetricBundle at 0x7ff4a0b9e7c0>,\n",
       " 'baseline_v2_1_10yrs_Median_Inter-Night_Gap_XMM-LSS_i_note_like_DD_XMM-LSS_and_i_USER': <rubin_sim.maf.metricBundles.metricBundle.MetricBundle at 0x7ff4a0b9e850>,\n",
       " 'baseline_v2_1_10yrs_Median_Inter-Night_Gap_XMM-LSS_z_note_like_DD_XMM-LSS_and_z_USER': <rubin_sim.maf.metricBundles.metricBundle.MetricBundle at 0x7ff4a0b9e8e0>,\n",
       " 'baseline_v2_1_10yrs_Median_Inter-Night_Gap_XMM-LSS_y_note_like_DD_XMM-LSS_and_y_USER': <rubin_sim.maf.metricBundles.metricBundle.MetricBundle at 0x7ff4a0b9e970>,\n",
       " 'baseline_v2_1_10yrs_Median_Inter-Night_Gap_XMM-LSS_note_like_DD_XMM-LSS_USER': <rubin_sim.maf.metricBundles.metricBundle.MetricBundle at 0x7ff4a0b9e9d0>,\n",
       " 'baseline_v2_1_10yrs_Median_Season_Length_XMM-LSS_note_like_DD_XMM-LSS_USER': <rubin_sim.maf.metricBundles.metricBundle.MetricBundle at 0x7ff4a0b9ea60>,\n",
       " 'baseline_v2_1_10yrs_Cumulative_note_like_DD_XMM-LSS_UNIS': <rubin_sim.maf.metricBundles.metricBundle.MetricBundle at 0x7ff4a0b9eb80>}"
      ]
     },
     "execution_count": 5,
     "metadata": {},
     "output_type": "execute_result"
    }
   ],
   "source": [
    "trimmed_bd"
   ]
  },
  {
   "cell_type": "code",
   "execution_count": 6,
   "id": "ecf1e80a",
   "metadata": {},
   "outputs": [],
   "source": [
    "trimmed_bd = {}\n",
    "for key in bd:\n",
    "    if 'XMM' in key:\n",
    "        if 'SNe' in key:\n",
    "            trimmed_bd[key] = bd[key]"
   ]
  },
  {
   "cell_type": "code",
   "execution_count": 7,
   "id": "9afa4471",
   "metadata": {},
   "outputs": [],
   "source": [
    "# OK, things that are not the problem:\n",
    "# Count\n",
    "# USER\n",
    "# UNIS\n",
    "# sigma\n",
    "# QSO\n",
    "# SnL"
   ]
  },
  {
   "cell_type": "code",
   "execution_count": 8,
   "id": "1df44eca",
   "metadata": {},
   "outputs": [
    {
     "data": {
      "text/plain": [
       "{'baseline_v2_1_10yrs_XMM-LSS_SNe_HEAL': <rubin_sim.maf.metricBundles.metricBundle.MetricBundle at 0x7ff48d055490>}"
      ]
     },
     "execution_count": 8,
     "metadata": {},
     "output_type": "execute_result"
    }
   ],
   "source": [
    "trimmed_bd"
   ]
  },
  {
   "cell_type": "code",
   "execution_count": 9,
   "id": "b68fb61e",
   "metadata": {},
   "outputs": [
    {
     "name": "stdout",
     "output_type": "stream",
     "text": [
      "Querying table None with no constraint for columns ['night', 'rotSkyPos', 'fieldDec', 'filter', 'observationStartMJD', 'fieldRA', 'visitTime', 'visitExposureTime', 'fiveSigmaDepth', 'numExposures', 'observationId'].\n",
      "Found 2081749 visits\n",
      "Running:  ['baseline_v2_1_10yrs_XMM-LSS_SNe_HEAL']\n"
     ]
    },
    {
     "name": "stderr",
     "output_type": "stream",
     "text": [
      "/Users/yoachim/git_repos/rubin_sim/rubin_sim/maf/maps/dustMap.py:42: UserWarning: Slicer value of nside 64 different from map value 128, using slicer value\n",
      "  warnings.warn(\n"
     ]
    },
    {
     "name": "stdout",
     "output_type": "stream",
     "text": [
      "Completed metric generation.\n",
      "Running reduce methods.\n",
      "Running summary statistics.\n",
      "Completed.\n",
      "CPU times: user 6min 6s, sys: 20.5 s, total: 6min 26s\n",
      "Wall time: 6min 33s\n"
     ]
    }
   ],
   "source": [
    "%%time\n",
    "group = maf.MetricBundleGroup(trimmed_bd, dbfile, outDir=name + '_ddf', resultsDb=resultsDb, saveEarly=False)\n",
    "group.runAll()\n"
   ]
  },
  {
   "cell_type": "code",
   "execution_count": 10,
   "id": "1731d4d4",
   "metadata": {},
   "outputs": [
    {
     "name": "stderr",
     "output_type": "stream",
     "text": [
      "/Users/yoachim/git_repos/rubin_sim/rubin_sim/maf/plots/plotHandler.py:583: UserWarning: Cannot plot object metric values with this plotter.\n",
      "  warnings.warn(\n",
      "81.24756453813393 98.75243546186607 -8.752435461866066 8.752435461866066\n"
     ]
    },
    {
     "name": "stdout",
     "output_type": "stream",
     "text": [
      "Plotting figures with \"\" constraint now.\n"
     ]
    },
    {
     "name": "stderr",
     "output_type": "stream",
     "text": [
      "81.24756453813393 98.75243546186607 -8.752435461866066 8.752435461866066\n"
     ]
    },
    {
     "name": "stdout",
     "output_type": "stream",
     "text": [
      "Plotting complete.\n"
     ]
    },
    {
     "data": {
      "image/png": "[encoded data removed]",
      "text/plain": [
       "<Figure size 432x288 with 2 Axes>"
      ]
     },
     "metadata": {
      "needs_background": "light"
     },
     "output_type": "display_data"
    },
    {
     "data": {
      "image/png": "[encoded data removed]",
      "text/plain": [
       "<Figure size 432x288 with 2 Axes>"
      ]
     },
     "metadata": {
      "needs_background": "light"
     },
     "output_type": "display_data"
    }
   ],
   "source": [
    "group.plotAll(closefigs=False)"
   ]
  },
  {
   "cell_type": "code",
   "execution_count": 10,
   "id": "6c127a94",
   "metadata": {},
   "outputs": [
    {
     "name": "stderr",
     "output_type": "stream",
     "text": [
      "/Users/yoachim/git_repos/rubin_sim/rubin_sim/maf/plots/plotHandler.py:583: UserWarning: Cannot plot object metric values with this plotter.\n",
      "  warnings.warn(\n",
      "81.24756453813393 98.75243546186607 -8.752435461866066 8.752435461866066\n"
     ]
    },
    {
     "name": "stdout",
     "output_type": "stream",
     "text": [
      "Plotting figures with \"\" constraint now.\n"
     ]
    },
    {
     "name": "stderr",
     "output_type": "stream",
     "text": [
      "81.24756453813393 98.75243546186607 -8.752435461866066 8.752435461866066\n"
     ]
    },
    {
     "name": "stdout",
     "output_type": "stream",
     "text": [
      "Plotting complete.\n"
     ]
    },
    {
     "data": {
      "image/png": "[encoded data removed]",
      "text/plain": [
       "<Figure size 432x288 with 2 Axes>"
      ]
     },
     "metadata": {
      "needs_background": "light"
     },
     "output_type": "display_data"
    },
    {
     "data": {
      "image/png": "[encoded data removed]",
      "text/plain": [
       "<Figure size 432x288 with 2 Axes>"
      ]
     },
     "metadata": {
      "needs_background": "light"
     },
     "output_type": "display_data"
    }
   ],
   "source": [
    "group.plotAll(closefigs=False)"
   ]
  },
  {
   "cell_type": "code",
   "execution_count": 11,
   "id": "79fc62af",
   "metadata": {},
   "outputs": [
    {
     "data": {
      "text/plain": [
       "masked_array(data=[--, --, --, ..., --, --, --],\n",
       "             mask=[ True,  True,  True, ...,  True,  True,  True],\n",
       "       fill_value=-1.6375e+30)"
      ]
     },
     "execution_count": 11,
     "metadata": {},
     "output_type": "execute_result"
    }
   ],
   "source": [
    "trimmed_bd['XMM-LSS, SNe_nSN'].metricValues"
   ]
  },
  {
   "cell_type": "code",
   "execution_count": 12,
   "id": "b74ea041",
   "metadata": {},
   "outputs": [
    {
     "data": {
      "text/plain": [
       "<rubin_sim.maf.slicers.healpixSubsetSlicer.HealpixSubsetSlicer at 0x7f84806060d0>"
      ]
     },
     "execution_count": 12,
     "metadata": {},
     "output_type": "execute_result"
    }
   ],
   "source": [
    "trimmed_bd['XMM-LSS, SNe_nSN'].slicer"
   ]
  },
  {
   "cell_type": "code",
   "execution_count": null,
   "id": "15ec9a8e",
   "metadata": {},
   "outputs": [],
   "source": []
  },
  {
   "cell_type": "code",
   "execution_count": 13,
   "id": "de03fb78",
   "metadata": {},
   "outputs": [
    {
     "data": {
      "text/plain": [
       "dict_keys(['sid', 'ra', 'dec', 'nside', 'gall', 'galb', 'ebv'])"
      ]
     },
     "execution_count": 13,
     "metadata": {},
     "output_type": "execute_result"
    }
   ],
   "source": [
    "trimmed_bd['XMM-LSS, SNe_nSN'].slicer.slicePoints.keys()"
   ]
  },
  {
   "cell_type": "code",
   "execution_count": 14,
   "id": "8c61bcd9",
   "metadata": {},
   "outputs": [
    {
     "data": {
      "text/plain": [
       "dict_keys(['sid', 'ra', 'dec', 'nside', 'gall', 'galb', 'ebv'])"
      ]
     },
     "execution_count": 14,
     "metadata": {},
     "output_type": "execute_result"
    }
   ],
   "source": [
    "trimmed_bd['baseline_v2_1_10yrs_XMM-LSS_SNe_HEAL'].slicer.slicePoints.keys()"
   ]
  },
  {
   "cell_type": "code",
   "execution_count": 15,
   "id": "c14e17e0",
   "metadata": {},
   "outputs": [
    {
     "data": {
      "text/plain": [
       "{'baseline_v2_1_10yrs_XMM-LSS_SNe_HEAL': <rubin_sim.maf.metricBundles.metricBundle.MetricBundle at 0x7f8480606220>,\n",
       " 'XMM-LSS, SNe_nSN': <rubin_sim.maf.metricBundles.metricBundle.MetricBundle at 0x7f841fcf00a0>,\n",
       " 'XMM-LSS, SNe_zlim': <rubin_sim.maf.metricBundles.metricBundle.MetricBundle at 0x7f841fcf0e50>}"
      ]
     },
     "execution_count": 15,
     "metadata": {},
     "output_type": "execute_result"
    }
   ],
   "source": [
    "trimmed_bd"
   ]
  },
  {
   "cell_type": "code",
   "execution_count": 16,
   "id": "195823a4",
   "metadata": {},
   "outputs": [
    {
     "data": {
      "text/plain": [
       "array([ 1.56441744,  1.56441744,  1.56441744, ..., -1.56441744,\n",
       "       -1.56441744, -1.56441744])"
      ]
     },
     "execution_count": 16,
     "metadata": {},
     "output_type": "execute_result"
    }
   ],
   "source": [
    "trimmed_bd['XMM-LSS, SNe_nSN'].slicer.slicePoints['dec']"
   ]
  },
  {
   "cell_type": "code",
   "execution_count": 17,
   "id": "59a0a873",
   "metadata": {},
   "outputs": [
    {
     "data": {
      "text/plain": [
       "196608"
      ]
     },
     "execution_count": 17,
     "metadata": {},
     "output_type": "execute_result"
    }
   ],
   "source": [
    "trimmed_bd['XMM-LSS, SNe_nSN'].slicer.slicePoints['dec'].size"
   ]
  },
  {
   "cell_type": "code",
   "execution_count": null,
   "id": "92ce2191",
   "metadata": {},
   "outputs": [],
   "source": []
  }
 ],
 "metadata": {
  "kernelspec": {
   "display_name": "Python 3 (ipykernel)",
   "language": "python",
   "name": "python3"
  },
  "language_info": {
   "codemirror_mode": {
    "name": "ipython",
    "version": 3
   },
   "file_extension": ".py",
   "mimetype": "text/x-python",
   "name": "python",
   "nbconvert_exporter": "python",
   "pygments_lexer": "ipython3",
   "version": "3.8.12"
  }
 },
 "nbformat": 4,
 "nbformat_minor": 5
}
