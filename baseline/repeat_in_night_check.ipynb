{
 "cells": [
  {
   "cell_type": "code",
   "execution_count": 1,
   "id": "0e0ae3ae",
   "metadata": {},
   "outputs": [],
   "source": [
    "import numpy as np\n",
    "import matplotlib.pylab as plt\n",
    "%matplotlib inline\n",
    "import pandas as pd\n",
    "import sqlite3\n"
   ]
  },
  {
   "cell_type": "code",
   "execution_count": 2,
   "id": "cfc26483",
   "metadata": {},
   "outputs": [],
   "source": [
    "db = sqlite3.connect('baseline_v2.1_10yrs.db')\n",
    "df = pd.read_sql('select fieldRA,fieldDec,night from observations where note not like \"%DD%\";', db)"
   ]
  },
  {
   "cell_type": "code",
   "execution_count": 3,
   "id": "457d0809",
   "metadata": {},
   "outputs": [],
   "source": [
    "bins = np.arange(10)-0.5\n",
    "x = (bins[1:] + bins[0:-1])/2\n",
    "\n",
    "hash_list = [hash((v1, v2, v3)) for v1,v2,v3 in zip(df['fieldRA'], df['fieldDec'], df['night'])]\n",
    "\n",
    "\n",
    "def binup_freq(pointings, bins):\n",
    "    vals = np.sort(pointings)\n",
    "    uvals = np.unique(vals)\n",
    "    left = np.searchsorted(vals,uvals)\n",
    "    right = np.searchsorted(vals,uvals, side='right')\n",
    "    freq = right-left\n",
    "    result, _bins = np.histogram(freq, bins)\n",
    "    return result\n",
    "\n",
    "\n",
    "vals = binup_freq(hash_list, bins)"
   ]
  },
  {
   "cell_type": "code",
   "execution_count": 4,
   "id": "7e5dea73",
   "metadata": {},
   "outputs": [
    {
     "data": {
      "text/plain": [
       "Text(0.5, 0, 'Number of times pointed in single night')"
      ]
     },
     "execution_count": 4,
     "metadata": {},
     "output_type": "execute_result"
    },
    {
     "data": {
      "image/png": "[encoded data removed]",
      "text/plain": [
       "<Figure size 432x288 with 1 Axes>"
      ]
     },
     "metadata": {
      "needs_background": "light"
     },
     "output_type": "display_data"
    }
   ],
   "source": [
    "plt.plot(x, vals, 'ko')\n",
    "plt.ylabel('N')\n",
    "plt.xlabel('Number of times pointed in single night')"
   ]
  },
  {
   "cell_type": "code",
   "execution_count": 5,
   "id": "67f0ad69",
   "metadata": {},
   "outputs": [
    {
     "data": {
      "text/plain": [
       "array([     0, 121106, 611524,  44475,  98315,   7290,  10274,   1006,\n",
       "         1021])"
      ]
     },
     "execution_count": 5,
     "metadata": {},
     "output_type": "execute_result"
    }
   ],
   "source": [
    "vals"
   ]
  },
  {
   "cell_type": "code",
   "execution_count": null,
   "id": "c676c6c7",
   "metadata": {},
   "outputs": [],
   "source": []
  },
  {
   "cell_type": "code",
   "execution_count": null,
   "id": "1cfa6daa",
   "metadata": {},
   "outputs": [],
   "source": []
  },
  {
   "cell_type": "code",
   "execution_count": null,
   "id": "276bf8fe",
   "metadata": {},
   "outputs": [],
   "source": []
  },
  {
   "cell_type": "code",
   "execution_count": null,
   "id": "5c6cbe6a",
   "metadata": {},
   "outputs": [],
   "source": []
  },
  {
   "cell_type": "code",
   "execution_count": null,
   "id": "aafd1d45",
   "metadata": {},
   "outputs": [],
   "source": []
  }
 ],
 "metadata": {
  "kernelspec": {
   "display_name": "Python 3 (ipykernel)",
   "language": "python",
   "name": "python3"
  },
  "language_info": {
   "codemirror_mode": {
    "name": "ipython",
    "version": 3
   },
   "file_extension": ".py",
   "mimetype": "text/x-python",
   "name": "python",
   "nbconvert_exporter": "python",
   "pygments_lexer": "ipython3",
   "version": "3.8.12"
  }
 },
 "nbformat": 4,
 "nbformat_minor": 5
}
