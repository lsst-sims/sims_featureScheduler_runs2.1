{
 "cells": [
  {
   "cell_type": "code",
   "execution_count": 1,
   "id": "0e0ae3ae",
   "metadata": {},
   "outputs": [],
   "source": [
    "import numpy as np\n",
    "import matplotlib.pylab as plt\n",
    "%matplotlib inline\n",
    "import pandas as pd\n",
    "import sqlite3\n"
   ]
  },
  {
   "cell_type": "code",
   "execution_count": 2,
   "id": "cfc26483",
   "metadata": {},
   "outputs": [],
   "source": [
    "db = sqlite3.connect('baseline_v2.1_10yrs.db')\n",
    "df = pd.read_sql('select fieldRA,fieldDec,night from observations where note not like \"%DD%\";', db)"
   ]
  },
  {
   "cell_type": "code",
   "execution_count": 3,
   "id": "457d0809",
   "metadata": {},
   "outputs": [],
   "source": [
    "bins = np.arange(10)-0.5\n",
    "x = (bins[1:] + bins[0:-1])/2\n",
    "\n",
    "hash_list = [hash((v1, v2, v3)) for v1,v2,v3 in zip(df['fieldRA'], df['fieldDec'], df['night'])]\n",
    "\n",
    "\n",
    "def binup_freq(pointings, bins):\n",
    "    vals = np.sort(pointings)\n",
    "    uvals = np.unique(vals)\n",
    "    left = np.searchsorted(vals,uvals)\n",
    "    right = np.searchsorted(vals,uvals, side='right')\n",
    "    freq = right-left\n",
    "    result, _bins = np.histogram(freq, bins)\n",
    "    return result\n",
    "\n",
    "\n",
    "vals = binup_freq(hash_list, bins)"
   ]
  },
  {
   "cell_type": "code",
   "execution_count": 4,
   "id": "7e5dea73",
   "metadata": {},
   "outputs": [
    {
     "data": {
      "text/plain": [
       "Text(0.5, 0, 'Number of times pointed in single night')"
      ]
     },
     "execution_count": 4,
     "metadata": {},
     "output_type": "execute_result"
    },
    {
     "data": {
      "image/png": "[encoded data removed]",
      "text/plain": [
       "<Figure size 432x288 with 1 Axes>"
      ]
     },
     "metadata": {
      "needs_background": "light"
     },
     "output_type": "display_data"
    }
   ],
   "source": [
    "plt.plot(x, vals, 'ko')\n",
    "plt.ylabel('N')\n",
    "plt.xlabel('Number of times pointed in single night')"
   ]
  },
  {
   "cell_type": "code",
   "execution_count": 5,
   "id": "67f0ad69",
   "metadata": {},
   "outputs": [
    {
     "data": {
      "text/plain": [
       "array([     0, 121106, 611524,  44475,  98315,   7290,  10274,   1006,\n",
       "         1021])"
      ]
     },
     "execution_count": 5,
     "metadata": {},
     "output_type": "execute_result"
    }
   ],
   "source": [
    "vals"
   ]
  },
  {
   "cell_type": "code",
   "execution_count": 6,
   "id": "ca6bb3c3",
   "metadata": {},
   "outputs": [
    {
     "data": {
      "text/plain": [
       "315227.0"
      ]
     },
     "execution_count": 6,
     "metadata": {},
     "output_type": "execute_result"
    }
   ],
   "source": [
    "np.sum(vals[3:]*(x[3:]-2))"
   ]
  },
  {
   "cell_type": "code",
   "execution_count": 7,
   "id": "8c209e7b",
   "metadata": {},
   "outputs": [
    {
     "data": {
      "text/plain": [
       "0.15858188025175735"
      ]
     },
     "execution_count": 7,
     "metadata": {},
     "output_type": "execute_result"
    }
   ],
   "source": [
    "np.sum(vals[3:]*(x[3:]-2))/df['night'].values.size"
   ]
  },
  {
   "cell_type": "code",
   "execution_count": 8,
   "id": "c676c6c7",
   "metadata": {},
   "outputs": [
    {
     "data": {
      "text/plain": [
       "Text(0.5, 0, 'Number of times pointed in single night')"
      ]
     },
     "execution_count": 8,
     "metadata": {},
     "output_type": "execute_result"
    },
    {
     "data": {
      "image/png": "[encoded data removed]",
      "text/plain": [
       "<Figure size 432x288 with 1 Axes>"
      ]
     },
     "metadata": {
      "needs_background": "light"
     },
     "output_type": "display_data"
    }
   ],
   "source": [
    "db = sqlite3.connect('/Users/yoachim/runs2/presto/presto_gap2.5_mix_v2.0_10yrs.db')\n",
    "df = pd.read_sql('select fieldRA,fieldDec,night from observations where note not like \"%DD%\";', db)\n",
    "\n",
    "bins = np.arange(10)-0.5\n",
    "x = (bins[1:] + bins[0:-1])/2\n",
    "\n",
    "hash_list = [hash((v1, v2, v3)) for v1,v2,v3 in zip(df['fieldRA'], df['fieldDec'], df['night'])]\n",
    "\n",
    "\n",
    "def binup_freq(pointings, bins):\n",
    "    vals = np.sort(pointings)\n",
    "    uvals = np.unique(vals)\n",
    "    left = np.searchsorted(vals,uvals)\n",
    "    right = np.searchsorted(vals,uvals, side='right')\n",
    "    freq = right-left\n",
    "    result, _bins = np.histogram(freq, bins)\n",
    "    return result\n",
    "\n",
    "\n",
    "vals = binup_freq(hash_list, bins)\n",
    "\n",
    "plt.plot(x, vals, 'ko')\n",
    "plt.ylabel('N')\n",
    "plt.xlabel('Number of times pointed in single night')"
   ]
  },
  {
   "cell_type": "code",
   "execution_count": 9,
   "id": "1cfa6daa",
   "metadata": {},
   "outputs": [
    {
     "data": {
      "text/plain": [
       "Text(0.5, 0, 'Number of times pointed in single night')"
      ]
     },
     "execution_count": 9,
     "metadata": {},
     "output_type": "execute_result"
    },
    {
     "data": {
      "image/png": "[encoded data removed]",
      "text/plain": [
       "<Figure size 432x288 with 1 Axes>"
      ]
     },
     "metadata": {
      "needs_background": "light"
     },
     "output_type": "display_data"
    }
   ],
   "source": [
    "db = sqlite3.connect('/Users/yoachim/runs2/noroll/noroll_v2.0_10yrs.db')\n",
    "df = pd.read_sql('select fieldRA,fieldDec,night from observations where note not like \"%DD%\";', db)\n",
    "\n",
    "bins = np.arange(10)-0.5\n",
    "x = (bins[1:] + bins[0:-1])/2\n",
    "\n",
    "hash_list = [hash((v1, v2, v3)) for v1,v2,v3 in zip(df['fieldRA'], df['fieldDec'], df['night'])]\n",
    "\n",
    "\n",
    "def binup_freq(pointings, bins):\n",
    "    vals = np.sort(pointings)\n",
    "    uvals = np.unique(vals)\n",
    "    left = np.searchsorted(vals,uvals)\n",
    "    right = np.searchsorted(vals,uvals, side='right')\n",
    "    freq = right-left\n",
    "    result, _bins = np.histogram(freq, bins)\n",
    "    return result\n",
    "\n",
    "\n",
    "vals = binup_freq(hash_list, bins)\n",
    "\n",
    "plt.plot(x, vals, 'ko')\n",
    "plt.ylabel('N')\n",
    "plt.xlabel('Number of times pointed in single night')"
   ]
  },
  {
   "cell_type": "code",
   "execution_count": 10,
   "id": "276bf8fe",
   "metadata": {},
   "outputs": [
    {
     "data": {
      "text/plain": [
       "array([     0, 175218, 851389,   9165,  19431,    274,    304,     13,\n",
       "            9])"
      ]
     },
     "execution_count": 10,
     "metadata": {},
     "output_type": "execute_result"
    }
   ],
   "source": [
    "vals"
   ]
  },
  {
   "cell_type": "code",
   "execution_count": 13,
   "id": "5c6cbe6a",
   "metadata": {},
   "outputs": [
    {
     "data": {
      "text/plain": [
       "Text(0.5, 0, 'Number of times pointed in single night')"
      ]
     },
     "execution_count": 13,
     "metadata": {},
     "output_type": "execute_result"
    },
    {
     "data": {
      "image/png": "[encoded data removed]",
      "text/plain": [
       "<Figure size 432x288 with 1 Axes>"
      ]
     },
     "metadata": {
      "needs_background": "light"
     },
     "output_type": "display_data"
    }
   ],
   "source": [
    "db = sqlite3.connect('no_repeat_rpw-1.0_v2.1_1yrs.db')\n",
    "df = pd.read_sql('select fieldRA,fieldDec,night from observations where note not like \"%DD%\" and night < 366;', db)\n",
    "\n",
    "bins = np.arange(10)-0.5\n",
    "x = (bins[1:] + bins[0:-1])/2\n",
    "\n",
    "hash_list = [hash((v1, v2, v3)) for v1,v2,v3 in zip(df['fieldRA'], df['fieldDec'], df['night'])]\n",
    "\n",
    "\n",
    "def binup_freq(pointings, bins):\n",
    "    vals = np.sort(pointings)\n",
    "    uvals = np.unique(vals)\n",
    "    left = np.searchsorted(vals,uvals)\n",
    "    right = np.searchsorted(vals,uvals, side='right')\n",
    "    freq = right-left\n",
    "    result, _bins = np.histogram(freq, bins)\n",
    "    return result\n",
    "\n",
    "\n",
    "vals = binup_freq(hash_list, bins)\n",
    "\n",
    "plt.plot(x, vals, 'ko')\n",
    "plt.ylabel('N')\n",
    "plt.xlabel('Number of times pointed in single night')"
   ]
  },
  {
   "cell_type": "code",
   "execution_count": 14,
   "id": "87e4724c",
   "metadata": {},
   "outputs": [
    {
     "data": {
      "text/plain": [
       "array([    0, 17419, 79604,  2266,  5018,   198,   262,    35,    36])"
      ]
     },
     "execution_count": 14,
     "metadata": {},
     "output_type": "execute_result"
    }
   ],
   "source": [
    "vals"
   ]
  },
  {
   "cell_type": "code",
   "execution_count": 15,
   "id": "aafd1d45",
   "metadata": {},
   "outputs": [
    {
     "data": {
      "text/plain": [
       "Text(0.5, 0, 'Number of times pointed in single night')"
      ]
     },
     "execution_count": 15,
     "metadata": {},
     "output_type": "execute_result"
    },
    {
     "data": {
      "image/png": "[encoded data removed]",
      "text/plain": [
       "<Figure size 432x288 with 1 Axes>"
      ]
     },
     "metadata": {
      "needs_background": "light"
     },
     "output_type": "display_data"
    }
   ],
   "source": [
    "db = sqlite3.connect('baseline_v2.1_10yrs.db')\n",
    "df = pd.read_sql('select fieldRA,fieldDec,night from observations where note not like \"%DD%\" and night < 366;', db)\n",
    "\n",
    "bins = np.arange(10)-0.5\n",
    "x = (bins[1:] + bins[0:-1])/2\n",
    "\n",
    "hash_list = [hash((v1, v2, v3)) for v1,v2,v3 in zip(df['fieldRA'], df['fieldDec'], df['night'])]\n",
    "\n",
    "\n",
    "def binup_freq(pointings, bins):\n",
    "    vals = np.sort(pointings)\n",
    "    uvals = np.unique(vals)\n",
    "    left = np.searchsorted(vals,uvals)\n",
    "    right = np.searchsorted(vals,uvals, side='right')\n",
    "    freq = right-left\n",
    "    result, _bins = np.histogram(freq, bins)\n",
    "    return result\n",
    "\n",
    "\n",
    "vals = binup_freq(hash_list, bins)\n",
    "\n",
    "plt.plot(x, vals, 'ko')\n",
    "plt.ylabel('N')\n",
    "plt.xlabel('Number of times pointed in single night')"
   ]
  },
  {
   "cell_type": "code",
   "execution_count": 16,
   "id": "7d6b2a92",
   "metadata": {},
   "outputs": [
    {
     "data": {
      "text/plain": [
       "array([    0, 13936, 68526,  4326,  8725,   510,   758,    57,    65])"
      ]
     },
     "execution_count": 16,
     "metadata": {},
     "output_type": "execute_result"
    }
   ],
   "source": [
    "vals"
   ]
  },
  {
   "cell_type": "code",
   "execution_count": null,
   "id": "1d7607fe",
   "metadata": {},
   "outputs": [],
   "source": []
  }
 ],
 "metadata": {
  "kernelspec": {
   "display_name": "Python 3 (ipykernel)",
   "language": "python",
   "name": "python3"
  },
  "language_info": {
   "codemirror_mode": {
    "name": "ipython",
    "version": 3
   },
   "file_extension": ".py",
   "mimetype": "text/x-python",
   "name": "python",
   "nbconvert_exporter": "python",
   "pygments_lexer": "ipython3",
   "version": "3.8.12"
  }
 },
 "nbformat": 4,
 "nbformat_minor": 5
}
