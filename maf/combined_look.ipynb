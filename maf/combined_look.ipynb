{
 "cells": [
  {
   "cell_type": "code",
   "execution_count": 1,
   "id": "115663da",
   "metadata": {},
   "outputs": [],
   "source": [
    "import numpy as np\n",
    "import pandas as pd\n",
    "import matplotlib.pylab as plt\n",
    "%matplotlib inline"
   ]
  },
  {
   "cell_type": "code",
   "execution_count": 2,
   "id": "92ed855c",
   "metadata": {},
   "outputs": [],
   "source": [
    "df = pd.read_pickle('combined_stats.pkl')"
   ]
  },
  {
   "cell_type": "code",
   "execution_count": 3,
   "id": "74872d8c",
   "metadata": {},
   "outputs": [
    {
     "data": {
      "text/html": [
       "<div>\n",
       "<style scoped>\n",
       "    .dataframe tbody tr th:only-of-type {\n",
       "        vertical-align: middle;\n",
       "    }\n",
       "\n",
       "    .dataframe tbody tr th {\n",
       "        vertical-align: top;\n",
       "    }\n",
       "\n",
       "    .dataframe thead th {\n",
       "        text-align: right;\n",
       "    }\n",
       "</style>\n",
       "<table border=\"1\" class=\"dataframe\">\n",
       "  <thead>\n",
       "    <tr style=\"text-align: right;\">\n",
       "      <th>metric</th>\n",
       "      <th>Mean SnL_ELAISS1  HealpixSubsetSlicer</th>\n",
       "      <th>Median SnL_ELAISS1  HealpixSubsetSlicer</th>\n",
       "      <th>Sum SnL_ELAISS1  HealpixSubsetSlicer</th>\n",
       "      <th>Median ELAISS1, Count all  HealpixSubsetSlicer</th>\n",
       "      <th>Mean SnL_XMM-LSS  HealpixSubsetSlicer</th>\n",
       "      <th>Median SnL_XMM-LSS  HealpixSubsetSlicer</th>\n",
       "      <th>Sum SnL_XMM-LSS  HealpixSubsetSlicer</th>\n",
       "      <th>Median XMM-LSS, Count all  HealpixSubsetSlicer</th>\n",
       "      <th>Mean SnL_ECDFS  HealpixSubsetSlicer</th>\n",
       "      <th>Median SnL_ECDFS  HealpixSubsetSlicer</th>\n",
       "      <th>...</th>\n",
       "      <th>Value At H=5.0 DifferentialCompleteness OCC_r5 3 triplets in 30 nights detection loss MoObjSlicer</th>\n",
       "      <th>Value At H=5.0 CumulativeCompleteness OCC_r5 3 triplets in 30 nights detection loss MoObjSlicer</th>\n",
       "      <th>Value At H=5.0 DifferentialCompleteness OCC_r5 3 pairs in 30 nights trailing loss MoObjSlicer</th>\n",
       "      <th>Value At H=5.0 CumulativeCompleteness OCC_r5 3 pairs in 30 nights trailing loss MoObjSlicer</th>\n",
       "      <th>Value At H=10.0 FractionPop 6 filters OCC_r5 MoObjSlicer</th>\n",
       "      <th>Value At H=10.0 FractionPop 5 filters OCC_r5 MoObjSlicer</th>\n",
       "      <th>Value At H=10.0 FractionPop 4 filters OCC_r5 MoObjSlicer</th>\n",
       "      <th>Value At H=10.0 FractionPop 3 filters OCC_r5 MoObjSlicer</th>\n",
       "      <th>Value At H=10.0 FractionPop 2 filters OCC_r5 MoObjSlicer</th>\n",
       "      <th>Value At H=10.0 FractionPop 1 filters OCC_r5 MoObjSlicer</th>\n",
       "    </tr>\n",
       "    <tr>\n",
       "      <th>run_name</th>\n",
       "      <th></th>\n",
       "      <th></th>\n",
       "      <th></th>\n",
       "      <th></th>\n",
       "      <th></th>\n",
       "      <th></th>\n",
       "      <th></th>\n",
       "      <th></th>\n",
       "      <th></th>\n",
       "      <th></th>\n",
       "      <th></th>\n",
       "      <th></th>\n",
       "      <th></th>\n",
       "      <th></th>\n",
       "      <th></th>\n",
       "      <th></th>\n",
       "      <th></th>\n",
       "      <th></th>\n",
       "      <th></th>\n",
       "      <th></th>\n",
       "      <th></th>\n",
       "    </tr>\n",
       "  </thead>\n",
       "  <tbody>\n",
       "    <tr>\n",
       "      <th>baseline_v2.1_10yrs</th>\n",
       "      <td>0.000008</td>\n",
       "      <td>0.000007</td>\n",
       "      <td>0.029187</td>\n",
       "      <td>854.0</td>\n",
       "      <td>0.000007</td>\n",
       "      <td>0.000006</td>\n",
       "      <td>0.026344</td>\n",
       "      <td>844.0</td>\n",
       "      <td>0.000007</td>\n",
       "      <td>0.000007</td>\n",
       "      <td>...</td>\n",
       "      <td>0.8860</td>\n",
       "      <td>0.8860</td>\n",
       "      <td>0.9412</td>\n",
       "      <td>0.9412</td>\n",
       "      <td>NaN</td>\n",
       "      <td>NaN</td>\n",
       "      <td>NaN</td>\n",
       "      <td>NaN</td>\n",
       "      <td>NaN</td>\n",
       "      <td>NaN</td>\n",
       "    </tr>\n",
       "    <tr>\n",
       "      <th>ddf_accourd_sf0.05_lsf0.1_lsr0.1_v2.1_10yrs</th>\n",
       "      <td>0.000008</td>\n",
       "      <td>0.000007</td>\n",
       "      <td>0.031387</td>\n",
       "      <td>856.0</td>\n",
       "      <td>0.000007</td>\n",
       "      <td>0.000006</td>\n",
       "      <td>0.028390</td>\n",
       "      <td>848.0</td>\n",
       "      <td>0.000008</td>\n",
       "      <td>0.000007</td>\n",
       "      <td>...</td>\n",
       "      <td>NaN</td>\n",
       "      <td>NaN</td>\n",
       "      <td>NaN</td>\n",
       "      <td>NaN</td>\n",
       "      <td>NaN</td>\n",
       "      <td>NaN</td>\n",
       "      <td>NaN</td>\n",
       "      <td>NaN</td>\n",
       "      <td>NaN</td>\n",
       "      <td>NaN</td>\n",
       "    </tr>\n",
       "    <tr>\n",
       "      <th>ddf_accourd_sf0.05_lsf0.1_lsr0.3_v2.1_10yrs</th>\n",
       "      <td>0.000009</td>\n",
       "      <td>0.000008</td>\n",
       "      <td>0.033349</td>\n",
       "      <td>855.0</td>\n",
       "      <td>0.000008</td>\n",
       "      <td>0.000006</td>\n",
       "      <td>0.029280</td>\n",
       "      <td>846.0</td>\n",
       "      <td>0.000008</td>\n",
       "      <td>0.000007</td>\n",
       "      <td>...</td>\n",
       "      <td>NaN</td>\n",
       "      <td>NaN</td>\n",
       "      <td>NaN</td>\n",
       "      <td>NaN</td>\n",
       "      <td>NaN</td>\n",
       "      <td>NaN</td>\n",
       "      <td>NaN</td>\n",
       "      <td>NaN</td>\n",
       "      <td>NaN</td>\n",
       "      <td>NaN</td>\n",
       "    </tr>\n",
       "    <tr>\n",
       "      <th>ddf_accourd_sf0.05_lsf0.1_lsr0.5_v2.1_10yrs</th>\n",
       "      <td>0.000008</td>\n",
       "      <td>0.000007</td>\n",
       "      <td>0.031136</td>\n",
       "      <td>860.0</td>\n",
       "      <td>0.000008</td>\n",
       "      <td>0.000006</td>\n",
       "      <td>0.028884</td>\n",
       "      <td>845.0</td>\n",
       "      <td>0.000008</td>\n",
       "      <td>0.000007</td>\n",
       "      <td>...</td>\n",
       "      <td>NaN</td>\n",
       "      <td>NaN</td>\n",
       "      <td>NaN</td>\n",
       "      <td>NaN</td>\n",
       "      <td>NaN</td>\n",
       "      <td>NaN</td>\n",
       "      <td>NaN</td>\n",
       "      <td>NaN</td>\n",
       "      <td>NaN</td>\n",
       "      <td>NaN</td>\n",
       "    </tr>\n",
       "    <tr>\n",
       "      <th>ddf_accourd_sf0.05_lsf0.2_lsr0.1_v2.1_10yrs</th>\n",
       "      <td>0.000008</td>\n",
       "      <td>0.000007</td>\n",
       "      <td>0.030743</td>\n",
       "      <td>859.0</td>\n",
       "      <td>0.000008</td>\n",
       "      <td>0.000007</td>\n",
       "      <td>0.030214</td>\n",
       "      <td>840.0</td>\n",
       "      <td>0.000008</td>\n",
       "      <td>0.000008</td>\n",
       "      <td>...</td>\n",
       "      <td>NaN</td>\n",
       "      <td>NaN</td>\n",
       "      <td>NaN</td>\n",
       "      <td>NaN</td>\n",
       "      <td>NaN</td>\n",
       "      <td>NaN</td>\n",
       "      <td>NaN</td>\n",
       "      <td>NaN</td>\n",
       "      <td>NaN</td>\n",
       "      <td>NaN</td>\n",
       "    </tr>\n",
       "    <tr>\n",
       "      <th>...</th>\n",
       "      <td>...</td>\n",
       "      <td>...</td>\n",
       "      <td>...</td>\n",
       "      <td>...</td>\n",
       "      <td>...</td>\n",
       "      <td>...</td>\n",
       "      <td>...</td>\n",
       "      <td>...</td>\n",
       "      <td>...</td>\n",
       "      <td>...</td>\n",
       "      <td>...</td>\n",
       "      <td>...</td>\n",
       "      <td>...</td>\n",
       "      <td>...</td>\n",
       "      <td>...</td>\n",
       "      <td>...</td>\n",
       "      <td>...</td>\n",
       "      <td>...</td>\n",
       "      <td>...</td>\n",
       "      <td>...</td>\n",
       "      <td>...</td>\n",
       "    </tr>\n",
       "    <tr>\n",
       "      <th>plane_priority_priority0.6_pbt_v2.1_10yrs</th>\n",
       "      <td>0.000007</td>\n",
       "      <td>0.000007</td>\n",
       "      <td>0.028278</td>\n",
       "      <td>821.0</td>\n",
       "      <td>0.000007</td>\n",
       "      <td>0.000006</td>\n",
       "      <td>0.025618</td>\n",
       "      <td>807.0</td>\n",
       "      <td>0.000008</td>\n",
       "      <td>0.000007</td>\n",
       "      <td>...</td>\n",
       "      <td>0.8696</td>\n",
       "      <td>0.8696</td>\n",
       "      <td>0.9444</td>\n",
       "      <td>0.9444</td>\n",
       "      <td>NaN</td>\n",
       "      <td>NaN</td>\n",
       "      <td>NaN</td>\n",
       "      <td>NaN</td>\n",
       "      <td>NaN</td>\n",
       "      <td>NaN</td>\n",
       "    </tr>\n",
       "    <tr>\n",
       "      <th>plane_priority_priority0.9_pbf_v2.1_10yrs</th>\n",
       "      <td>0.000007</td>\n",
       "      <td>0.000006</td>\n",
       "      <td>0.027557</td>\n",
       "      <td>836.0</td>\n",
       "      <td>0.000007</td>\n",
       "      <td>0.000006</td>\n",
       "      <td>0.026524</td>\n",
       "      <td>831.0</td>\n",
       "      <td>0.000008</td>\n",
       "      <td>0.000007</td>\n",
       "      <td>...</td>\n",
       "      <td>0.8656</td>\n",
       "      <td>0.8656</td>\n",
       "      <td>0.9418</td>\n",
       "      <td>0.9418</td>\n",
       "      <td>0.4064</td>\n",
       "      <td>0.7196</td>\n",
       "      <td>0.8134</td>\n",
       "      <td>0.8382</td>\n",
       "      <td>0.854</td>\n",
       "      <td>0.8542</td>\n",
       "    </tr>\n",
       "    <tr>\n",
       "      <th>plane_priority_priority0.9_pbt_v2.1_10yrs</th>\n",
       "      <td>0.000008</td>\n",
       "      <td>0.000007</td>\n",
       "      <td>0.028827</td>\n",
       "      <td>827.0</td>\n",
       "      <td>0.000006</td>\n",
       "      <td>0.000006</td>\n",
       "      <td>0.024060</td>\n",
       "      <td>815.0</td>\n",
       "      <td>0.000008</td>\n",
       "      <td>0.000007</td>\n",
       "      <td>...</td>\n",
       "      <td>0.8690</td>\n",
       "      <td>0.8690</td>\n",
       "      <td>0.9424</td>\n",
       "      <td>0.9424</td>\n",
       "      <td>NaN</td>\n",
       "      <td>NaN</td>\n",
       "      <td>NaN</td>\n",
       "      <td>NaN</td>\n",
       "      <td>NaN</td>\n",
       "      <td>NaN</td>\n",
       "    </tr>\n",
       "    <tr>\n",
       "      <th>plane_priority_priority1.2_pbf_v2.1_10yrs</th>\n",
       "      <td>0.000007</td>\n",
       "      <td>0.000006</td>\n",
       "      <td>0.028379</td>\n",
       "      <td>841.0</td>\n",
       "      <td>0.000007</td>\n",
       "      <td>0.000006</td>\n",
       "      <td>0.025212</td>\n",
       "      <td>824.0</td>\n",
       "      <td>0.000008</td>\n",
       "      <td>0.000007</td>\n",
       "      <td>...</td>\n",
       "      <td>0.8650</td>\n",
       "      <td>0.8650</td>\n",
       "      <td>0.9408</td>\n",
       "      <td>0.9408</td>\n",
       "      <td>NaN</td>\n",
       "      <td>NaN</td>\n",
       "      <td>NaN</td>\n",
       "      <td>NaN</td>\n",
       "      <td>NaN</td>\n",
       "      <td>NaN</td>\n",
       "    </tr>\n",
       "    <tr>\n",
       "      <th>plane_priority_priority1.2_pbt_v2.1_10yrs</th>\n",
       "      <td>0.000007</td>\n",
       "      <td>0.000006</td>\n",
       "      <td>0.028379</td>\n",
       "      <td>841.0</td>\n",
       "      <td>0.000007</td>\n",
       "      <td>0.000006</td>\n",
       "      <td>0.025212</td>\n",
       "      <td>824.0</td>\n",
       "      <td>0.000008</td>\n",
       "      <td>0.000007</td>\n",
       "      <td>...</td>\n",
       "      <td>0.8650</td>\n",
       "      <td>0.8650</td>\n",
       "      <td>0.9408</td>\n",
       "      <td>0.9408</td>\n",
       "      <td>NaN</td>\n",
       "      <td>NaN</td>\n",
       "      <td>NaN</td>\n",
       "      <td>NaN</td>\n",
       "      <td>NaN</td>\n",
       "      <td>NaN</td>\n",
       "    </tr>\n",
       "  </tbody>\n",
       "</table>\n",
       "<p>113 rows × 35154 columns</p>\n",
       "</div>"
      ],
      "text/plain": [
       "metric                                       Mean SnL_ELAISS1  HealpixSubsetSlicer  \\\n",
       "run_name                                                                             \n",
       "baseline_v2.1_10yrs                                                       0.000008   \n",
       "ddf_accourd_sf0.05_lsf0.1_lsr0.1_v2.1_10yrs                               0.000008   \n",
       "ddf_accourd_sf0.05_lsf0.1_lsr0.3_v2.1_10yrs                               0.000009   \n",
       "ddf_accourd_sf0.05_lsf0.1_lsr0.5_v2.1_10yrs                               0.000008   \n",
       "ddf_accourd_sf0.05_lsf0.2_lsr0.1_v2.1_10yrs                               0.000008   \n",
       "...                                                                            ...   \n",
       "plane_priority_priority0.6_pbt_v2.1_10yrs                                 0.000007   \n",
       "plane_priority_priority0.9_pbf_v2.1_10yrs                                 0.000007   \n",
       "plane_priority_priority0.9_pbt_v2.1_10yrs                                 0.000008   \n",
       "plane_priority_priority1.2_pbf_v2.1_10yrs                                 0.000007   \n",
       "plane_priority_priority1.2_pbt_v2.1_10yrs                                 0.000007   \n",
       "\n",
       "metric                                       Median SnL_ELAISS1  HealpixSubsetSlicer  \\\n",
       "run_name                                                                               \n",
       "baseline_v2.1_10yrs                                                         0.000007   \n",
       "ddf_accourd_sf0.05_lsf0.1_lsr0.1_v2.1_10yrs                                 0.000007   \n",
       "ddf_accourd_sf0.05_lsf0.1_lsr0.3_v2.1_10yrs                                 0.000008   \n",
       "ddf_accourd_sf0.05_lsf0.1_lsr0.5_v2.1_10yrs                                 0.000007   \n",
       "ddf_accourd_sf0.05_lsf0.2_lsr0.1_v2.1_10yrs                                 0.000007   \n",
       "...                                                                              ...   \n",
       "plane_priority_priority0.6_pbt_v2.1_10yrs                                   0.000007   \n",
       "plane_priority_priority0.9_pbf_v2.1_10yrs                                   0.000006   \n",
       "plane_priority_priority0.9_pbt_v2.1_10yrs                                   0.000007   \n",
       "plane_priority_priority1.2_pbf_v2.1_10yrs                                   0.000006   \n",
       "plane_priority_priority1.2_pbt_v2.1_10yrs                                   0.000006   \n",
       "\n",
       "metric                                       Sum SnL_ELAISS1  HealpixSubsetSlicer  \\\n",
       "run_name                                                                            \n",
       "baseline_v2.1_10yrs                                                      0.029187   \n",
       "ddf_accourd_sf0.05_lsf0.1_lsr0.1_v2.1_10yrs                              0.031387   \n",
       "ddf_accourd_sf0.05_lsf0.1_lsr0.3_v2.1_10yrs                              0.033349   \n",
       "ddf_accourd_sf0.05_lsf0.1_lsr0.5_v2.1_10yrs                              0.031136   \n",
       "ddf_accourd_sf0.05_lsf0.2_lsr0.1_v2.1_10yrs                              0.030743   \n",
       "...                                                                           ...   \n",
       "plane_priority_priority0.6_pbt_v2.1_10yrs                                0.028278   \n",
       "plane_priority_priority0.9_pbf_v2.1_10yrs                                0.027557   \n",
       "plane_priority_priority0.9_pbt_v2.1_10yrs                                0.028827   \n",
       "plane_priority_priority1.2_pbf_v2.1_10yrs                                0.028379   \n",
       "plane_priority_priority1.2_pbt_v2.1_10yrs                                0.028379   \n",
       "\n",
       "metric                                       Median ELAISS1, Count all  HealpixSubsetSlicer  \\\n",
       "run_name                                                                                      \n",
       "baseline_v2.1_10yrs                                                                   854.0   \n",
       "ddf_accourd_sf0.05_lsf0.1_lsr0.1_v2.1_10yrs                                           856.0   \n",
       "ddf_accourd_sf0.05_lsf0.1_lsr0.3_v2.1_10yrs                                           855.0   \n",
       "ddf_accourd_sf0.05_lsf0.1_lsr0.5_v2.1_10yrs                                           860.0   \n",
       "ddf_accourd_sf0.05_lsf0.2_lsr0.1_v2.1_10yrs                                           859.0   \n",
       "...                                                                                     ...   \n",
       "plane_priority_priority0.6_pbt_v2.1_10yrs                                             821.0   \n",
       "plane_priority_priority0.9_pbf_v2.1_10yrs                                             836.0   \n",
       "plane_priority_priority0.9_pbt_v2.1_10yrs                                             827.0   \n",
       "plane_priority_priority1.2_pbf_v2.1_10yrs                                             841.0   \n",
       "plane_priority_priority1.2_pbt_v2.1_10yrs                                             841.0   \n",
       "\n",
       "metric                                       Mean SnL_XMM-LSS  HealpixSubsetSlicer  \\\n",
       "run_name                                                                             \n",
       "baseline_v2.1_10yrs                                                       0.000007   \n",
       "ddf_accourd_sf0.05_lsf0.1_lsr0.1_v2.1_10yrs                               0.000007   \n",
       "ddf_accourd_sf0.05_lsf0.1_lsr0.3_v2.1_10yrs                               0.000008   \n",
       "ddf_accourd_sf0.05_lsf0.1_lsr0.5_v2.1_10yrs                               0.000008   \n",
       "ddf_accourd_sf0.05_lsf0.2_lsr0.1_v2.1_10yrs                               0.000008   \n",
       "...                                                                            ...   \n",
       "plane_priority_priority0.6_pbt_v2.1_10yrs                                 0.000007   \n",
       "plane_priority_priority0.9_pbf_v2.1_10yrs                                 0.000007   \n",
       "plane_priority_priority0.9_pbt_v2.1_10yrs                                 0.000006   \n",
       "plane_priority_priority1.2_pbf_v2.1_10yrs                                 0.000007   \n",
       "plane_priority_priority1.2_pbt_v2.1_10yrs                                 0.000007   \n",
       "\n",
       "metric                                       Median SnL_XMM-LSS  HealpixSubsetSlicer  \\\n",
       "run_name                                                                               \n",
       "baseline_v2.1_10yrs                                                         0.000006   \n",
       "ddf_accourd_sf0.05_lsf0.1_lsr0.1_v2.1_10yrs                                 0.000006   \n",
       "ddf_accourd_sf0.05_lsf0.1_lsr0.3_v2.1_10yrs                                 0.000006   \n",
       "ddf_accourd_sf0.05_lsf0.1_lsr0.5_v2.1_10yrs                                 0.000006   \n",
       "ddf_accourd_sf0.05_lsf0.2_lsr0.1_v2.1_10yrs                                 0.000007   \n",
       "...                                                                              ...   \n",
       "plane_priority_priority0.6_pbt_v2.1_10yrs                                   0.000006   \n",
       "plane_priority_priority0.9_pbf_v2.1_10yrs                                   0.000006   \n",
       "plane_priority_priority0.9_pbt_v2.1_10yrs                                   0.000006   \n",
       "plane_priority_priority1.2_pbf_v2.1_10yrs                                   0.000006   \n",
       "plane_priority_priority1.2_pbt_v2.1_10yrs                                   0.000006   \n",
       "\n",
       "metric                                       Sum SnL_XMM-LSS  HealpixSubsetSlicer  \\\n",
       "run_name                                                                            \n",
       "baseline_v2.1_10yrs                                                      0.026344   \n",
       "ddf_accourd_sf0.05_lsf0.1_lsr0.1_v2.1_10yrs                              0.028390   \n",
       "ddf_accourd_sf0.05_lsf0.1_lsr0.3_v2.1_10yrs                              0.029280   \n",
       "ddf_accourd_sf0.05_lsf0.1_lsr0.5_v2.1_10yrs                              0.028884   \n",
       "ddf_accourd_sf0.05_lsf0.2_lsr0.1_v2.1_10yrs                              0.030214   \n",
       "...                                                                           ...   \n",
       "plane_priority_priority0.6_pbt_v2.1_10yrs                                0.025618   \n",
       "plane_priority_priority0.9_pbf_v2.1_10yrs                                0.026524   \n",
       "plane_priority_priority0.9_pbt_v2.1_10yrs                                0.024060   \n",
       "plane_priority_priority1.2_pbf_v2.1_10yrs                                0.025212   \n",
       "plane_priority_priority1.2_pbt_v2.1_10yrs                                0.025212   \n",
       "\n",
       "metric                                       Median XMM-LSS, Count all  HealpixSubsetSlicer  \\\n",
       "run_name                                                                                      \n",
       "baseline_v2.1_10yrs                                                                   844.0   \n",
       "ddf_accourd_sf0.05_lsf0.1_lsr0.1_v2.1_10yrs                                           848.0   \n",
       "ddf_accourd_sf0.05_lsf0.1_lsr0.3_v2.1_10yrs                                           846.0   \n",
       "ddf_accourd_sf0.05_lsf0.1_lsr0.5_v2.1_10yrs                                           845.0   \n",
       "ddf_accourd_sf0.05_lsf0.2_lsr0.1_v2.1_10yrs                                           840.0   \n",
       "...                                                                                     ...   \n",
       "plane_priority_priority0.6_pbt_v2.1_10yrs                                             807.0   \n",
       "plane_priority_priority0.9_pbf_v2.1_10yrs                                             831.0   \n",
       "plane_priority_priority0.9_pbt_v2.1_10yrs                                             815.0   \n",
       "plane_priority_priority1.2_pbf_v2.1_10yrs                                             824.0   \n",
       "plane_priority_priority1.2_pbt_v2.1_10yrs                                             824.0   \n",
       "\n",
       "metric                                       Mean SnL_ECDFS  HealpixSubsetSlicer  \\\n",
       "run_name                                                                           \n",
       "baseline_v2.1_10yrs                                                     0.000007   \n",
       "ddf_accourd_sf0.05_lsf0.1_lsr0.1_v2.1_10yrs                             0.000008   \n",
       "ddf_accourd_sf0.05_lsf0.1_lsr0.3_v2.1_10yrs                             0.000008   \n",
       "ddf_accourd_sf0.05_lsf0.1_lsr0.5_v2.1_10yrs                             0.000008   \n",
       "ddf_accourd_sf0.05_lsf0.2_lsr0.1_v2.1_10yrs                             0.000008   \n",
       "...                                                                          ...   \n",
       "plane_priority_priority0.6_pbt_v2.1_10yrs                               0.000008   \n",
       "plane_priority_priority0.9_pbf_v2.1_10yrs                               0.000008   \n",
       "plane_priority_priority0.9_pbt_v2.1_10yrs                               0.000008   \n",
       "plane_priority_priority1.2_pbf_v2.1_10yrs                               0.000008   \n",
       "plane_priority_priority1.2_pbt_v2.1_10yrs                               0.000008   \n",
       "\n",
       "metric                                       Median SnL_ECDFS  HealpixSubsetSlicer  \\\n",
       "run_name                                                                             \n",
       "baseline_v2.1_10yrs                                                       0.000007   \n",
       "ddf_accourd_sf0.05_lsf0.1_lsr0.1_v2.1_10yrs                               0.000007   \n",
       "ddf_accourd_sf0.05_lsf0.1_lsr0.3_v2.1_10yrs                               0.000007   \n",
       "ddf_accourd_sf0.05_lsf0.1_lsr0.5_v2.1_10yrs                               0.000007   \n",
       "ddf_accourd_sf0.05_lsf0.2_lsr0.1_v2.1_10yrs                               0.000008   \n",
       "...                                                                            ...   \n",
       "plane_priority_priority0.6_pbt_v2.1_10yrs                                 0.000007   \n",
       "plane_priority_priority0.9_pbf_v2.1_10yrs                                 0.000007   \n",
       "plane_priority_priority0.9_pbt_v2.1_10yrs                                 0.000007   \n",
       "plane_priority_priority1.2_pbf_v2.1_10yrs                                 0.000007   \n",
       "plane_priority_priority1.2_pbt_v2.1_10yrs                                 0.000007   \n",
       "\n",
       "metric                                       ...  \\\n",
       "run_name                                     ...   \n",
       "baseline_v2.1_10yrs                          ...   \n",
       "ddf_accourd_sf0.05_lsf0.1_lsr0.1_v2.1_10yrs  ...   \n",
       "ddf_accourd_sf0.05_lsf0.1_lsr0.3_v2.1_10yrs  ...   \n",
       "ddf_accourd_sf0.05_lsf0.1_lsr0.5_v2.1_10yrs  ...   \n",
       "ddf_accourd_sf0.05_lsf0.2_lsr0.1_v2.1_10yrs  ...   \n",
       "...                                          ...   \n",
       "plane_priority_priority0.6_pbt_v2.1_10yrs    ...   \n",
       "plane_priority_priority0.9_pbf_v2.1_10yrs    ...   \n",
       "plane_priority_priority0.9_pbt_v2.1_10yrs    ...   \n",
       "plane_priority_priority1.2_pbf_v2.1_10yrs    ...   \n",
       "plane_priority_priority1.2_pbt_v2.1_10yrs    ...   \n",
       "\n",
       "metric                                       Value At H=5.0 DifferentialCompleteness OCC_r5 3 triplets in 30 nights detection loss MoObjSlicer  \\\n",
       "run_name                                                                                                                                         \n",
       "baseline_v2.1_10yrs                                                                     0.8860                                                   \n",
       "ddf_accourd_sf0.05_lsf0.1_lsr0.1_v2.1_10yrs                                                NaN                                                   \n",
       "ddf_accourd_sf0.05_lsf0.1_lsr0.3_v2.1_10yrs                                                NaN                                                   \n",
       "ddf_accourd_sf0.05_lsf0.1_lsr0.5_v2.1_10yrs                                                NaN                                                   \n",
       "ddf_accourd_sf0.05_lsf0.2_lsr0.1_v2.1_10yrs                                                NaN                                                   \n",
       "...                                                                                        ...                                                   \n",
       "plane_priority_priority0.6_pbt_v2.1_10yrs                                               0.8696                                                   \n",
       "plane_priority_priority0.9_pbf_v2.1_10yrs                                               0.8656                                                   \n",
       "plane_priority_priority0.9_pbt_v2.1_10yrs                                               0.8690                                                   \n",
       "plane_priority_priority1.2_pbf_v2.1_10yrs                                               0.8650                                                   \n",
       "plane_priority_priority1.2_pbt_v2.1_10yrs                                               0.8650                                                   \n",
       "\n",
       "metric                                       Value At H=5.0 CumulativeCompleteness OCC_r5 3 triplets in 30 nights detection loss MoObjSlicer  \\\n",
       "run_name                                                                                                                                       \n",
       "baseline_v2.1_10yrs                                                                     0.8860                                                 \n",
       "ddf_accourd_sf0.05_lsf0.1_lsr0.1_v2.1_10yrs                                                NaN                                                 \n",
       "ddf_accourd_sf0.05_lsf0.1_lsr0.3_v2.1_10yrs                                                NaN                                                 \n",
       "ddf_accourd_sf0.05_lsf0.1_lsr0.5_v2.1_10yrs                                                NaN                                                 \n",
       "ddf_accourd_sf0.05_lsf0.2_lsr0.1_v2.1_10yrs                                                NaN                                                 \n",
       "...                                                                                        ...                                                 \n",
       "plane_priority_priority0.6_pbt_v2.1_10yrs                                               0.8696                                                 \n",
       "plane_priority_priority0.9_pbf_v2.1_10yrs                                               0.8656                                                 \n",
       "plane_priority_priority0.9_pbt_v2.1_10yrs                                               0.8690                                                 \n",
       "plane_priority_priority1.2_pbf_v2.1_10yrs                                               0.8650                                                 \n",
       "plane_priority_priority1.2_pbt_v2.1_10yrs                                               0.8650                                                 \n",
       "\n",
       "metric                                       Value At H=5.0 DifferentialCompleteness OCC_r5 3 pairs in 30 nights trailing loss MoObjSlicer  \\\n",
       "run_name                                                                                                                                     \n",
       "baseline_v2.1_10yrs                                                                     0.9412                                               \n",
       "ddf_accourd_sf0.05_lsf0.1_lsr0.1_v2.1_10yrs                                                NaN                                               \n",
       "ddf_accourd_sf0.05_lsf0.1_lsr0.3_v2.1_10yrs                                                NaN                                               \n",
       "ddf_accourd_sf0.05_lsf0.1_lsr0.5_v2.1_10yrs                                                NaN                                               \n",
       "ddf_accourd_sf0.05_lsf0.2_lsr0.1_v2.1_10yrs                                                NaN                                               \n",
       "...                                                                                        ...                                               \n",
       "plane_priority_priority0.6_pbt_v2.1_10yrs                                               0.9444                                               \n",
       "plane_priority_priority0.9_pbf_v2.1_10yrs                                               0.9418                                               \n",
       "plane_priority_priority0.9_pbt_v2.1_10yrs                                               0.9424                                               \n",
       "plane_priority_priority1.2_pbf_v2.1_10yrs                                               0.9408                                               \n",
       "plane_priority_priority1.2_pbt_v2.1_10yrs                                               0.9408                                               \n",
       "\n",
       "metric                                       Value At H=5.0 CumulativeCompleteness OCC_r5 3 pairs in 30 nights trailing loss MoObjSlicer  \\\n",
       "run_name                                                                                                                                   \n",
       "baseline_v2.1_10yrs                                                                     0.9412                                             \n",
       "ddf_accourd_sf0.05_lsf0.1_lsr0.1_v2.1_10yrs                                                NaN                                             \n",
       "ddf_accourd_sf0.05_lsf0.1_lsr0.3_v2.1_10yrs                                                NaN                                             \n",
       "ddf_accourd_sf0.05_lsf0.1_lsr0.5_v2.1_10yrs                                                NaN                                             \n",
       "ddf_accourd_sf0.05_lsf0.2_lsr0.1_v2.1_10yrs                                                NaN                                             \n",
       "...                                                                                        ...                                             \n",
       "plane_priority_priority0.6_pbt_v2.1_10yrs                                               0.9444                                             \n",
       "plane_priority_priority0.9_pbf_v2.1_10yrs                                               0.9418                                             \n",
       "plane_priority_priority0.9_pbt_v2.1_10yrs                                               0.9424                                             \n",
       "plane_priority_priority1.2_pbf_v2.1_10yrs                                               0.9408                                             \n",
       "plane_priority_priority1.2_pbt_v2.1_10yrs                                               0.9408                                             \n",
       "\n",
       "metric                                       Value At H=10.0 FractionPop 6 filters OCC_r5 MoObjSlicer  \\\n",
       "run_name                                                                                                \n",
       "baseline_v2.1_10yrs                                                                        NaN          \n",
       "ddf_accourd_sf0.05_lsf0.1_lsr0.1_v2.1_10yrs                                                NaN          \n",
       "ddf_accourd_sf0.05_lsf0.1_lsr0.3_v2.1_10yrs                                                NaN          \n",
       "ddf_accourd_sf0.05_lsf0.1_lsr0.5_v2.1_10yrs                                                NaN          \n",
       "ddf_accourd_sf0.05_lsf0.2_lsr0.1_v2.1_10yrs                                                NaN          \n",
       "...                                                                                        ...          \n",
       "plane_priority_priority0.6_pbt_v2.1_10yrs                                                  NaN          \n",
       "plane_priority_priority0.9_pbf_v2.1_10yrs                                               0.4064          \n",
       "plane_priority_priority0.9_pbt_v2.1_10yrs                                                  NaN          \n",
       "plane_priority_priority1.2_pbf_v2.1_10yrs                                                  NaN          \n",
       "plane_priority_priority1.2_pbt_v2.1_10yrs                                                  NaN          \n",
       "\n",
       "metric                                       Value At H=10.0 FractionPop 5 filters OCC_r5 MoObjSlicer  \\\n",
       "run_name                                                                                                \n",
       "baseline_v2.1_10yrs                                                                        NaN          \n",
       "ddf_accourd_sf0.05_lsf0.1_lsr0.1_v2.1_10yrs                                                NaN          \n",
       "ddf_accourd_sf0.05_lsf0.1_lsr0.3_v2.1_10yrs                                                NaN          \n",
       "ddf_accourd_sf0.05_lsf0.1_lsr0.5_v2.1_10yrs                                                NaN          \n",
       "ddf_accourd_sf0.05_lsf0.2_lsr0.1_v2.1_10yrs                                                NaN          \n",
       "...                                                                                        ...          \n",
       "plane_priority_priority0.6_pbt_v2.1_10yrs                                                  NaN          \n",
       "plane_priority_priority0.9_pbf_v2.1_10yrs                                               0.7196          \n",
       "plane_priority_priority0.9_pbt_v2.1_10yrs                                                  NaN          \n",
       "plane_priority_priority1.2_pbf_v2.1_10yrs                                                  NaN          \n",
       "plane_priority_priority1.2_pbt_v2.1_10yrs                                                  NaN          \n",
       "\n",
       "metric                                       Value At H=10.0 FractionPop 4 filters OCC_r5 MoObjSlicer  \\\n",
       "run_name                                                                                                \n",
       "baseline_v2.1_10yrs                                                                        NaN          \n",
       "ddf_accourd_sf0.05_lsf0.1_lsr0.1_v2.1_10yrs                                                NaN          \n",
       "ddf_accourd_sf0.05_lsf0.1_lsr0.3_v2.1_10yrs                                                NaN          \n",
       "ddf_accourd_sf0.05_lsf0.1_lsr0.5_v2.1_10yrs                                                NaN          \n",
       "ddf_accourd_sf0.05_lsf0.2_lsr0.1_v2.1_10yrs                                                NaN          \n",
       "...                                                                                        ...          \n",
       "plane_priority_priority0.6_pbt_v2.1_10yrs                                                  NaN          \n",
       "plane_priority_priority0.9_pbf_v2.1_10yrs                                               0.8134          \n",
       "plane_priority_priority0.9_pbt_v2.1_10yrs                                                  NaN          \n",
       "plane_priority_priority1.2_pbf_v2.1_10yrs                                                  NaN          \n",
       "plane_priority_priority1.2_pbt_v2.1_10yrs                                                  NaN          \n",
       "\n",
       "metric                                       Value At H=10.0 FractionPop 3 filters OCC_r5 MoObjSlicer  \\\n",
       "run_name                                                                                                \n",
       "baseline_v2.1_10yrs                                                                        NaN          \n",
       "ddf_accourd_sf0.05_lsf0.1_lsr0.1_v2.1_10yrs                                                NaN          \n",
       "ddf_accourd_sf0.05_lsf0.1_lsr0.3_v2.1_10yrs                                                NaN          \n",
       "ddf_accourd_sf0.05_lsf0.1_lsr0.5_v2.1_10yrs                                                NaN          \n",
       "ddf_accourd_sf0.05_lsf0.2_lsr0.1_v2.1_10yrs                                                NaN          \n",
       "...                                                                                        ...          \n",
       "plane_priority_priority0.6_pbt_v2.1_10yrs                                                  NaN          \n",
       "plane_priority_priority0.9_pbf_v2.1_10yrs                                               0.8382          \n",
       "plane_priority_priority0.9_pbt_v2.1_10yrs                                                  NaN          \n",
       "plane_priority_priority1.2_pbf_v2.1_10yrs                                                  NaN          \n",
       "plane_priority_priority1.2_pbt_v2.1_10yrs                                                  NaN          \n",
       "\n",
       "metric                                       Value At H=10.0 FractionPop 2 filters OCC_r5 MoObjSlicer  \\\n",
       "run_name                                                                                                \n",
       "baseline_v2.1_10yrs                                                                        NaN          \n",
       "ddf_accourd_sf0.05_lsf0.1_lsr0.1_v2.1_10yrs                                                NaN          \n",
       "ddf_accourd_sf0.05_lsf0.1_lsr0.3_v2.1_10yrs                                                NaN          \n",
       "ddf_accourd_sf0.05_lsf0.1_lsr0.5_v2.1_10yrs                                                NaN          \n",
       "ddf_accourd_sf0.05_lsf0.2_lsr0.1_v2.1_10yrs                                                NaN          \n",
       "...                                                                                        ...          \n",
       "plane_priority_priority0.6_pbt_v2.1_10yrs                                                  NaN          \n",
       "plane_priority_priority0.9_pbf_v2.1_10yrs                                                0.854          \n",
       "plane_priority_priority0.9_pbt_v2.1_10yrs                                                  NaN          \n",
       "plane_priority_priority1.2_pbf_v2.1_10yrs                                                  NaN          \n",
       "plane_priority_priority1.2_pbt_v2.1_10yrs                                                  NaN          \n",
       "\n",
       "metric                                       Value At H=10.0 FractionPop 1 filters OCC_r5 MoObjSlicer  \n",
       "run_name                                                                                               \n",
       "baseline_v2.1_10yrs                                                                        NaN         \n",
       "ddf_accourd_sf0.05_lsf0.1_lsr0.1_v2.1_10yrs                                                NaN         \n",
       "ddf_accourd_sf0.05_lsf0.1_lsr0.3_v2.1_10yrs                                                NaN         \n",
       "ddf_accourd_sf0.05_lsf0.1_lsr0.5_v2.1_10yrs                                                NaN         \n",
       "ddf_accourd_sf0.05_lsf0.2_lsr0.1_v2.1_10yrs                                                NaN         \n",
       "...                                                                                        ...         \n",
       "plane_priority_priority0.6_pbt_v2.1_10yrs                                                  NaN         \n",
       "plane_priority_priority0.9_pbf_v2.1_10yrs                                               0.8542         \n",
       "plane_priority_priority0.9_pbt_v2.1_10yrs                                                  NaN         \n",
       "plane_priority_priority1.2_pbf_v2.1_10yrs                                                  NaN         \n",
       "plane_priority_priority1.2_pbt_v2.1_10yrs                                                  NaN         \n",
       "\n",
       "[113 rows x 35154 columns]"
      ]
     },
     "execution_count": 3,
     "metadata": {},
     "output_type": "execute_result"
    }
   ],
   "source": [
    "df"
   ]
  },
  {
   "cell_type": "code",
   "execution_count": 4,
   "id": "eed7418c",
   "metadata": {},
   "outputs": [
    {
     "data": {
      "text/plain": [
       "[<matplotlib.lines.Line2D at 0x7f9cba452040>]"
      ]
     },
     "execution_count": 4,
     "metadata": {},
     "output_type": "execute_result"
    },
    {
     "data": {
      "image/png": "[encoded data removed]",
      "text/plain": [
       "<Figure size 432x288 with 1 Axes>"
      ]
     },
     "metadata": {
      "needs_background": "light"
     },
     "output_type": "display_data"
    }
   ],
   "source": [
    "plt.plot(df['Median XMM-LSS, Count all  HealpixSubsetSlicer'])"
   ]
  },
  {
   "cell_type": "code",
   "execution_count": 9,
   "id": "ec9f710c",
   "metadata": {},
   "outputs": [
    {
     "data": {
      "text/plain": [
       "(array([96]),)"
      ]
     },
     "execution_count": 9,
     "metadata": {},
     "output_type": "execute_result"
    }
   ],
   "source": [
    "np.where(np.isnan(df['Sum COSMOS, SNe_nSN  HealpixSubsetSlicer'].values))"
   ]
  },
  {
   "cell_type": "code",
   "execution_count": 13,
   "id": "e3e9f841",
   "metadata": {},
   "outputs": [
    {
     "data": {
      "text/plain": [
       "'march_start_v2.1_10yrs'"
      ]
     },
     "execution_count": 13,
     "metadata": {},
     "output_type": "execute_result"
    }
   ],
   "source": [
    "df.index[96]  # That's ok, that one isn't supposed to be there"
   ]
  },
  {
   "cell_type": "code",
   "execution_count": 15,
   "id": "3e880836",
   "metadata": {},
   "outputs": [
    {
     "data": {
      "text/plain": [
       "[<matplotlib.lines.Line2D at 0x7f9cbbecbc70>]"
      ]
     },
     "execution_count": 15,
     "metadata": {},
     "output_type": "execute_result"
    },
    {
     "data": {
      "image/png": "[encoded data removed]",
      "text/plain": [
       "<Figure size 432x288 with 1 Axes>"
      ]
     },
     "metadata": {
      "needs_background": "light"
     },
     "output_type": "display_data"
    }
   ],
   "source": [
    "plt.plot(df['OpenShutterFraction'])"
   ]
  },
  {
   "cell_type": "code",
   "execution_count": null,
   "id": "227a6aff",
   "metadata": {},
   "outputs": [],
   "source": []
  },
  {
   "cell_type": "code",
   "execution_count": 15,
   "id": "c3bfa8cc",
   "metadata": {},
   "outputs": [
    {
     "data": {
      "text/plain": [
       "['Median ELAISS1, Count all  HealpixSubsetSlicer',\n",
       " 'Median XMM-LSS, Count all  HealpixSubsetSlicer',\n",
       " 'Median ECDFS, Count all  HealpixSubsetSlicer',\n",
       " 'Median COSMOS, Count all  HealpixSubsetSlicer',\n",
       " 'Median EDFS, Count all  HealpixSubsetSlicer']"
      ]
     },
     "execution_count": 15,
     "metadata": {},
     "output_type": "execute_result"
    }
   ],
   "source": [
    "[ack for ack in df.columns if 'Count all' in ack]"
   ]
  },
  {
   "cell_type": "code",
   "execution_count": 17,
   "id": "425c253c",
   "metadata": {},
   "outputs": [
    {
     "data": {
      "text/plain": [
       "[<matplotlib.lines.Line2D at 0x7fb008aac190>]"
      ]
     },
     "execution_count": 17,
     "metadata": {},
     "output_type": "execute_result"
    },
    {
     "data": {
      "image/png": "[encoded data removed]",
      "text/plain": [
       "<Figure size 432x288 with 1 Axes>"
      ]
     },
     "metadata": {
      "needs_background": "light"
     },
     "output_type": "display_data"
    }
   ],
   "source": [
    "plt.plot(df['Median COSMOS, Count all  HealpixSubsetSlicer'])"
   ]
  },
  {
   "cell_type": "code",
   "execution_count": 20,
   "id": "92545b6c",
   "metadata": {},
   "outputs": [
    {
     "data": {
      "text/plain": [
       "[<matplotlib.lines.Line2D at 0x7fb007121100>]"
      ]
     },
     "execution_count": 20,
     "metadata": {},
     "output_type": "execute_result"
    },
    {
     "data": {
      "image/png": "[encoded data removed]",
      "text/plain": [
       "<Figure size 432x288 with 1 Axes>"
      ]
     },
     "metadata": {
      "needs_background": "light"
     },
     "output_type": "display_data"
    }
   ],
   "source": [
    "plt.plot(df['Median EDFS, Count all  HealpixSubsetSlicer'])"
   ]
  },
  {
   "cell_type": "code",
   "execution_count": 19,
   "id": "03aff437",
   "metadata": {},
   "outputs": [
    {
     "data": {
      "text/plain": [
       "array([ 876. ,  866. ,  867. ,  862. ,  871. ,  870. ,  866. ,  868. ,\n",
       "        868. ,  865. ,  870. ,  867. ,  878. ,  856. ,  869. ,  871. ,\n",
       "        871. ,  862.5,  868. ,  867. ,  878. ,  871.5,  869. ,  869. ,\n",
       "        869. ,  869. ,  858. ,  863. ,  862.5,  868. ,  860. ,  861. ,\n",
       "        862. ,  865. ,  873. ,  865. ,  867. ,  867. ,  865. ,  862. ,\n",
       "        847. ,  839. ,  835. ,  841. ,  831. ,  840. ,  846. ,  852. ,\n",
       "        855. ,  855. ,  859. ,  871.5,  906. , 2231.5, 3991.5, 4440. ,\n",
       "        860. ,  858.5,  862. ,  863. ,  851. ,  853. ,  867. ,  870. ,\n",
       "        864.5,  874. ,  864. ,  872. ,  863. ,  845. ,  839. ,  840. ,\n",
       "        842. ,  838. ,  844. ,  869. ,  872. ,  858.5,  871.5,  862. ,\n",
       "        865. ,  855. ,  874. ,  869. ,  878. ,  864. ,  876. ,  866. ,\n",
       "        869. ,  877. ,  870. ,  866. ,  872. ,  877. ,  877. ,  877. ,\n",
       "          nan,  818. ,  820. ,  673. ,  672. ,  715. ,  716. ,  754. ,\n",
       "        751. ,  773. ,  777. ,  822. ,  833. ,  854. ,  837. ,  859. ,\n",
       "        859. ])"
      ]
     },
     "execution_count": 19,
     "metadata": {},
     "output_type": "execute_result"
    }
   ],
   "source": [
    "df['Median COSMOS, Count all  HealpixSubsetSlicer'].values"
   ]
  },
  {
   "cell_type": "code",
   "execution_count": 10,
   "id": "fd815a4a",
   "metadata": {},
   "outputs": [
    {
     "data": {
      "text/plain": [
       "[<matplotlib.lines.Line2D at 0x7fb0070c69a0>]"
      ]
     },
     "execution_count": 10,
     "metadata": {},
     "output_type": "execute_result"
    },
    {
     "data": {
      "image/png": "[encoded data removed]",
      "text/plain": [
       "<Figure size 432x288 with 1 Axes>"
      ]
     },
     "metadata": {
      "needs_background": "light"
     },
     "output_type": "display_data"
    }
   ],
   "source": [
    "plt.plot(df['Sum COSMOS, SNe_nSN  HealpixSubsetSlicer'])"
   ]
  },
  {
   "cell_type": "code",
   "execution_count": 12,
   "id": "f9d58637",
   "metadata": {},
   "outputs": [
    {
     "data": {
      "text/plain": [
       "[<matplotlib.lines.Line2D at 0x7fb008e2f2e0>]"
      ]
     },
     "execution_count": 12,
     "metadata": {},
     "output_type": "execute_result"
    },
    {
     "data": {
      "image/png": "[encoded data removed]",
      "text/plain": [
       "<Figure size 432x288 with 1 Axes>"
      ]
     },
     "metadata": {
      "needs_background": "light"
     },
     "output_type": "display_data"
    }
   ],
   "source": [
    "plt.plot(df['Sum ECDFS, SNe_nSN  HealpixSubsetSlicer'])"
   ]
  },
  {
   "cell_type": "code",
   "execution_count": null,
   "id": "744f236f",
   "metadata": {},
   "outputs": [],
   "source": []
  }
 ],
 "metadata": {
  "kernelspec": {
   "display_name": "Python 3 (ipykernel)",
   "language": "python",
   "name": "python3"
  },
  "language_info": {
   "codemirror_mode": {
    "name": "ipython",
    "version": 3
   },
   "file_extension": ".py",
   "mimetype": "text/x-python",
   "name": "python",
   "nbconvert_exporter": "python",
   "pygments_lexer": "ipython3",
   "version": "3.8.12"
  }
 },
 "nbformat": 4,
 "nbformat_minor": 5
}
